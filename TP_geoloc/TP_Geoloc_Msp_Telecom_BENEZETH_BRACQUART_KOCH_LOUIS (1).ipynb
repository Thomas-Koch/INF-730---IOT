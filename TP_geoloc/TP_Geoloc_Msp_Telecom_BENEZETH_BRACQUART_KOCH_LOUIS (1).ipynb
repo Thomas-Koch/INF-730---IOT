{
 "cells": [
  {
   "cell_type": "markdown",
   "metadata": {},
   "source": [
    "---\n",
    "# <center>**IOT INF730 - Projet Geolocalisation**</center>\n",
    "---\n",
    "\n",
    "## **Groupe :**\n",
    "* *Philippe Bénézeth*\n",
    "* *Xavier Bracquart*\n",
    "* *Thomas Koch*\n",
    "* *Nicolas Louis*\n",
    "---"
   ]
  },
  {
   "cell_type": "markdown",
   "metadata": {},
   "source": [
    "## **Objectifs :**\n",
    "* Construire la matrice des features\n",
    "* Construire la vérité terrain\n",
    "* Tracer la probabilité d'erreur cumulative\n",
    "* Calculer le critère de prédiction avec l'erreur à 80%\n",
    "* Extraire la prédiction sur les données de test\n",
    "* Enregistrer le résultat dans un fichier `.csv`\n",
    "* Utiliser une validation croisée avec une stratégie de « leave 1 device out »\n",
    "---"
   ]
  },
  {
   "cell_type": "markdown",
   "metadata": {},
   "source": [
    "What kind of ML problems do we have ?\n",
    "> On est sur un problème de régression.\n",
    "\n",
    "What is the feature matrix / Ground truth ?\n",
    "> Voir slide 34 du cours.\n",
    "\n",
    "What kind of algorithm will we use ?\n",
    "> Plusieurs alogorithmes du type supervisés sont possibles.\n",
    "---\n",
    "## **Initialisation**"
   ]
  },
  {
   "cell_type": "code",
   "execution_count": 1,
   "metadata": {},
   "outputs": [
    {
     "name": "stderr",
     "output_type": "stream",
     "text": [
      "/home/xavier/.local/lib/python3.6/site-packages/statsmodels/tools/_testing.py:19: FutureWarning: pandas.util.testing is deprecated. Use the functions in the public API at pandas.testing instead.\n",
      "  import pandas.util.testing as tm\n"
     ]
    }
   ],
   "source": [
    "%matplotlib inline\n",
    "import numpy as np\n",
    "import pandas as pd\n",
    "import matplotlib.pyplot as plt\n",
    "from geopy.distance import vincenty\n",
    "\n",
    "import seaborn as sns\n",
    "\n",
    "from sklearn.preprocessing import OneHotEncoder\n",
    "from sklearn.model_selection import cross_val_predict, train_test_split\n",
    "from sklearn import linear_model\n",
    "from sklearn.ensemble import RandomForestRegressor, ExtraTreesRegressor\n",
    "from sklearn.metrics import accuracy_score\n",
    "\n",
    "from sklearn.model_selection import LeaveOneGroupOut\n",
    "from sklearn.model_selection import cross_val_predict\n",
    "\n",
    "import warnings\n",
    "warnings.filterwarnings(\"ignore\")\n",
    "\n",
    "#pd.set_option('display.max_columns', 300)"
   ]
  },
  {
   "cell_type": "markdown",
   "metadata": {},
   "source": [
    "---\n",
    "## **1. Exploration des données**\n",
    "### 1.1 Chargement des données"
   ]
  },
  {
   "cell_type": "code",
   "execution_count": 2,
   "metadata": {},
   "outputs": [
    {
     "name": "stdout",
     "output_type": "stream",
     "text": [
      "nbr d'observations du train 39250\n",
      "nbr d'observations du test 29286\n"
     ]
    }
   ],
   "source": [
    "# load train and test data\n",
    "df_mess_train = pd.read_csv('mess_train_list.csv') # train set\n",
    "df_mess_test = pd.read_csv('mess_test_list.csv') # test set\n",
    "pos_train = pd.read_csv('pos_train_list.csv') # position associated to train set\n",
    "\n",
    "# nbr d'observations\n",
    "print(\"nbr d'observations du train\", df_mess_train.shape[0])\n",
    "print(\"nbr d'observations du test\", df_mess_test.shape[0])"
   ]
  },
  {
   "cell_type": "markdown",
   "metadata": {},
   "source": [
    "### 1.2 Exploration des différents dataframe obtenus\n",
    "#### Données d'entraînement"
   ]
  },
  {
   "cell_type": "code",
   "execution_count": 3,
   "metadata": {},
   "outputs": [
    {
     "data": {
      "text/html": [
       "<div>\n",
       "<style scoped>\n",
       "    .dataframe tbody tr th:only-of-type {\n",
       "        vertical-align: middle;\n",
       "    }\n",
       "\n",
       "    .dataframe tbody tr th {\n",
       "        vertical-align: top;\n",
       "    }\n",
       "\n",
       "    .dataframe thead th {\n",
       "        text-align: right;\n",
       "    }\n",
       "</style>\n",
       "<table border=\"1\" class=\"dataframe\">\n",
       "  <thead>\n",
       "    <tr style=\"text-align: right;\">\n",
       "      <th></th>\n",
       "      <th>messid</th>\n",
       "      <th>bsid</th>\n",
       "      <th>did</th>\n",
       "      <th>nseq</th>\n",
       "      <th>rssi</th>\n",
       "      <th>time_ux</th>\n",
       "      <th>bs_lat</th>\n",
       "      <th>bs_lng</th>\n",
       "    </tr>\n",
       "  </thead>\n",
       "  <tbody>\n",
       "    <tr>\n",
       "      <th>0</th>\n",
       "      <td>573bf1d9864fce1a9af8c5c9</td>\n",
       "      <td>2841</td>\n",
       "      <td>473335.0</td>\n",
       "      <td>0.5</td>\n",
       "      <td>-121.5</td>\n",
       "      <td>1.463546e+12</td>\n",
       "      <td>39.617794</td>\n",
       "      <td>-104.954917</td>\n",
       "    </tr>\n",
       "    <tr>\n",
       "      <th>1</th>\n",
       "      <td>573bf1d9864fce1a9af8c5c9</td>\n",
       "      <td>3526</td>\n",
       "      <td>473335.0</td>\n",
       "      <td>2.0</td>\n",
       "      <td>-125.0</td>\n",
       "      <td>1.463546e+12</td>\n",
       "      <td>39.677251</td>\n",
       "      <td>-104.952721</td>\n",
       "    </tr>\n",
       "    <tr>\n",
       "      <th>2</th>\n",
       "      <td>573bf3533e952e19126b256a</td>\n",
       "      <td>2605</td>\n",
       "      <td>473335.0</td>\n",
       "      <td>1.0</td>\n",
       "      <td>-134.0</td>\n",
       "      <td>1.463547e+12</td>\n",
       "      <td>39.612745</td>\n",
       "      <td>-105.008827</td>\n",
       "    </tr>\n",
       "    <tr>\n",
       "      <th>3</th>\n",
       "      <td>573c0cd0f0fe6e735a699b93</td>\n",
       "      <td>2610</td>\n",
       "      <td>473953.0</td>\n",
       "      <td>2.0</td>\n",
       "      <td>-132.0</td>\n",
       "      <td>1.463553e+12</td>\n",
       "      <td>39.797969</td>\n",
       "      <td>-105.073460</td>\n",
       "    </tr>\n",
       "    <tr>\n",
       "      <th>4</th>\n",
       "      <td>573c0cd0f0fe6e735a699b93</td>\n",
       "      <td>3574</td>\n",
       "      <td>473953.0</td>\n",
       "      <td>1.0</td>\n",
       "      <td>-120.0</td>\n",
       "      <td>1.463553e+12</td>\n",
       "      <td>39.723151</td>\n",
       "      <td>-104.956216</td>\n",
       "    </tr>\n",
       "  </tbody>\n",
       "</table>\n",
       "</div>"
      ],
      "text/plain": [
       "                     messid  bsid       did  nseq   rssi       time_ux  \\\n",
       "0  573bf1d9864fce1a9af8c5c9  2841  473335.0   0.5 -121.5  1.463546e+12   \n",
       "1  573bf1d9864fce1a9af8c5c9  3526  473335.0   2.0 -125.0  1.463546e+12   \n",
       "2  573bf3533e952e19126b256a  2605  473335.0   1.0 -134.0  1.463547e+12   \n",
       "3  573c0cd0f0fe6e735a699b93  2610  473953.0   2.0 -132.0  1.463553e+12   \n",
       "4  573c0cd0f0fe6e735a699b93  3574  473953.0   1.0 -120.0  1.463553e+12   \n",
       "\n",
       "      bs_lat      bs_lng  \n",
       "0  39.617794 -104.954917  \n",
       "1  39.677251 -104.952721  \n",
       "2  39.612745 -105.008827  \n",
       "3  39.797969 -105.073460  \n",
       "4  39.723151 -104.956216  "
      ]
     },
     "execution_count": 3,
     "metadata": {},
     "output_type": "execute_result"
    }
   ],
   "source": [
    "# Training set\n",
    "df_mess_train.head()"
   ]
  },
  {
   "cell_type": "code",
   "execution_count": 4,
   "metadata": {},
   "outputs": [
    {
     "data": {
      "text/html": [
       "<div>\n",
       "<style scoped>\n",
       "    .dataframe tbody tr th:only-of-type {\n",
       "        vertical-align: middle;\n",
       "    }\n",
       "\n",
       "    .dataframe tbody tr th {\n",
       "        vertical-align: top;\n",
       "    }\n",
       "\n",
       "    .dataframe thead th {\n",
       "        text-align: right;\n",
       "    }\n",
       "</style>\n",
       "<table border=\"1\" class=\"dataframe\">\n",
       "  <thead>\n",
       "    <tr style=\"text-align: right;\">\n",
       "      <th></th>\n",
       "      <th>bsid</th>\n",
       "      <th>did</th>\n",
       "      <th>nseq</th>\n",
       "      <th>rssi</th>\n",
       "      <th>time_ux</th>\n",
       "      <th>bs_lat</th>\n",
       "      <th>bs_lng</th>\n",
       "    </tr>\n",
       "  </thead>\n",
       "  <tbody>\n",
       "    <tr>\n",
       "      <th>count</th>\n",
       "      <td>39250.000000</td>\n",
       "      <td>3.925000e+04</td>\n",
       "      <td>39250.000000</td>\n",
       "      <td>39250.000000</td>\n",
       "      <td>3.925000e+04</td>\n",
       "      <td>39250.000000</td>\n",
       "      <td>39250.000000</td>\n",
       "    </tr>\n",
       "    <tr>\n",
       "      <th>mean</th>\n",
       "      <td>4533.774752</td>\n",
       "      <td>4.835932e+05</td>\n",
       "      <td>1.043541</td>\n",
       "      <td>-125.863580</td>\n",
       "      <td>1.473368e+12</td>\n",
       "      <td>42.554998</td>\n",
       "      <td>-100.969685</td>\n",
       "    </tr>\n",
       "    <tr>\n",
       "      <th>std</th>\n",
       "      <td>2570.495638</td>\n",
       "      <td>9.893140e+04</td>\n",
       "      <td>0.563540</td>\n",
       "      <td>9.226500</td>\n",
       "      <td>5.506910e+09</td>\n",
       "      <td>7.722787</td>\n",
       "      <td>11.522732</td>\n",
       "    </tr>\n",
       "    <tr>\n",
       "      <th>min</th>\n",
       "      <td>879.000000</td>\n",
       "      <td>4.732880e+05</td>\n",
       "      <td>0.000000</td>\n",
       "      <td>-155.000000</td>\n",
       "      <td>1.463546e+12</td>\n",
       "      <td>36.053394</td>\n",
       "      <td>-107.463146</td>\n",
       "    </tr>\n",
       "    <tr>\n",
       "      <th>25%</th>\n",
       "      <td>2790.000000</td>\n",
       "      <td>4.761230e+05</td>\n",
       "      <td>1.000000</td>\n",
       "      <td>-132.500000</td>\n",
       "      <td>1.468410e+12</td>\n",
       "      <td>39.747448</td>\n",
       "      <td>-105.074287</td>\n",
       "    </tr>\n",
       "    <tr>\n",
       "      <th>50%</th>\n",
       "      <td>3559.000000</td>\n",
       "      <td>4.763150e+05</td>\n",
       "      <td>1.000000</td>\n",
       "      <td>-127.333333</td>\n",
       "      <td>1.473444e+12</td>\n",
       "      <td>39.793585</td>\n",
       "      <td>-105.043685</td>\n",
       "    </tr>\n",
       "    <tr>\n",
       "      <th>75%</th>\n",
       "      <td>7456.000000</td>\n",
       "      <td>4.766090e+05</td>\n",
       "      <td>1.500000</td>\n",
       "      <td>-121.000000</td>\n",
       "      <td>1.479118e+12</td>\n",
       "      <td>39.838740</td>\n",
       "      <td>-104.998429</td>\n",
       "    </tr>\n",
       "    <tr>\n",
       "      <th>max</th>\n",
       "      <td>11951.000000</td>\n",
       "      <td>1.747448e+06</td>\n",
       "      <td>2.000000</td>\n",
       "      <td>-64.000000</td>\n",
       "      <td>1.481143e+12</td>\n",
       "      <td>64.300000</td>\n",
       "      <td>-68.500000</td>\n",
       "    </tr>\n",
       "  </tbody>\n",
       "</table>\n",
       "</div>"
      ],
      "text/plain": [
       "               bsid           did          nseq          rssi       time_ux  \\\n",
       "count  39250.000000  3.925000e+04  39250.000000  39250.000000  3.925000e+04   \n",
       "mean    4533.774752  4.835932e+05      1.043541   -125.863580  1.473368e+12   \n",
       "std     2570.495638  9.893140e+04      0.563540      9.226500  5.506910e+09   \n",
       "min      879.000000  4.732880e+05      0.000000   -155.000000  1.463546e+12   \n",
       "25%     2790.000000  4.761230e+05      1.000000   -132.500000  1.468410e+12   \n",
       "50%     3559.000000  4.763150e+05      1.000000   -127.333333  1.473444e+12   \n",
       "75%     7456.000000  4.766090e+05      1.500000   -121.000000  1.479118e+12   \n",
       "max    11951.000000  1.747448e+06      2.000000    -64.000000  1.481143e+12   \n",
       "\n",
       "             bs_lat        bs_lng  \n",
       "count  39250.000000  39250.000000  \n",
       "mean      42.554998   -100.969685  \n",
       "std        7.722787     11.522732  \n",
       "min       36.053394   -107.463146  \n",
       "25%       39.747448   -105.074287  \n",
       "50%       39.793585   -105.043685  \n",
       "75%       39.838740   -104.998429  \n",
       "max       64.300000    -68.500000  "
      ]
     },
     "execution_count": 4,
     "metadata": {},
     "output_type": "execute_result"
    }
   ],
   "source": [
    "df_mess_train.describe()"
   ]
  },
  {
   "cell_type": "code",
   "execution_count": 5,
   "metadata": {},
   "outputs": [
    {
     "data": {
      "text/plain": [
       "messid     0\n",
       "bsid       0\n",
       "did        0\n",
       "nseq       0\n",
       "rssi       0\n",
       "time_ux    0\n",
       "bs_lat     0\n",
       "bs_lng     0\n",
       "dtype: int64"
      ]
     },
     "execution_count": 5,
     "metadata": {},
     "output_type": "execute_result"
    }
   ],
   "source": [
    "df_mess_train.isnull().sum(axis = 0) #On regarde les NaN du df"
   ]
  },
  {
   "cell_type": "markdown",
   "metadata": {},
   "source": [
    "#### Données de test"
   ]
  },
  {
   "cell_type": "code",
   "execution_count": 6,
   "metadata": {},
   "outputs": [
    {
     "data": {
      "text/html": [
       "<div>\n",
       "<style scoped>\n",
       "    .dataframe tbody tr th:only-of-type {\n",
       "        vertical-align: middle;\n",
       "    }\n",
       "\n",
       "    .dataframe tbody tr th {\n",
       "        vertical-align: top;\n",
       "    }\n",
       "\n",
       "    .dataframe thead th {\n",
       "        text-align: right;\n",
       "    }\n",
       "</style>\n",
       "<table border=\"1\" class=\"dataframe\">\n",
       "  <thead>\n",
       "    <tr style=\"text-align: right;\">\n",
       "      <th></th>\n",
       "      <th>messid</th>\n",
       "      <th>bsid</th>\n",
       "      <th>did</th>\n",
       "      <th>nseq</th>\n",
       "      <th>rssi</th>\n",
       "      <th>time_ux</th>\n",
       "      <th>bs_lat</th>\n",
       "      <th>bs_lng</th>\n",
       "    </tr>\n",
       "  </thead>\n",
       "  <tbody>\n",
       "    <tr>\n",
       "      <th>0</th>\n",
       "      <td>573be2503e952e191262c351</td>\n",
       "      <td>3578</td>\n",
       "      <td>116539.0</td>\n",
       "      <td>2.0</td>\n",
       "      <td>-111.0</td>\n",
       "      <td>1.463542e+12</td>\n",
       "      <td>39.728651</td>\n",
       "      <td>-105.163032</td>\n",
       "    </tr>\n",
       "    <tr>\n",
       "      <th>1</th>\n",
       "      <td>573c05f83e952e1912758013</td>\n",
       "      <td>2617</td>\n",
       "      <td>472504.0</td>\n",
       "      <td>0.0</td>\n",
       "      <td>-136.0</td>\n",
       "      <td>1.463551e+12</td>\n",
       "      <td>39.779908</td>\n",
       "      <td>-105.062479</td>\n",
       "    </tr>\n",
       "    <tr>\n",
       "      <th>2</th>\n",
       "      <td>573c05f83e952e1912758013</td>\n",
       "      <td>3556</td>\n",
       "      <td>472504.0</td>\n",
       "      <td>0.0</td>\n",
       "      <td>-127.0</td>\n",
       "      <td>1.463551e+12</td>\n",
       "      <td>39.780658</td>\n",
       "      <td>-105.053676</td>\n",
       "    </tr>\n",
       "    <tr>\n",
       "      <th>3</th>\n",
       "      <td>573c05f83e952e1912758013</td>\n",
       "      <td>3578</td>\n",
       "      <td>472504.0</td>\n",
       "      <td>0.0</td>\n",
       "      <td>-129.0</td>\n",
       "      <td>1.463551e+12</td>\n",
       "      <td>39.728651</td>\n",
       "      <td>-105.163032</td>\n",
       "    </tr>\n",
       "    <tr>\n",
       "      <th>4</th>\n",
       "      <td>573c05f83e952e1912758013</td>\n",
       "      <td>4058</td>\n",
       "      <td>472504.0</td>\n",
       "      <td>0.0</td>\n",
       "      <td>-105.0</td>\n",
       "      <td>1.463551e+12</td>\n",
       "      <td>39.783211</td>\n",
       "      <td>-105.088747</td>\n",
       "    </tr>\n",
       "  </tbody>\n",
       "</table>\n",
       "</div>"
      ],
      "text/plain": [
       "                     messid  bsid       did  nseq   rssi       time_ux  \\\n",
       "0  573be2503e952e191262c351  3578  116539.0   2.0 -111.0  1.463542e+12   \n",
       "1  573c05f83e952e1912758013  2617  472504.0   0.0 -136.0  1.463551e+12   \n",
       "2  573c05f83e952e1912758013  3556  472504.0   0.0 -127.0  1.463551e+12   \n",
       "3  573c05f83e952e1912758013  3578  472504.0   0.0 -129.0  1.463551e+12   \n",
       "4  573c05f83e952e1912758013  4058  472504.0   0.0 -105.0  1.463551e+12   \n",
       "\n",
       "      bs_lat      bs_lng  \n",
       "0  39.728651 -105.163032  \n",
       "1  39.779908 -105.062479  \n",
       "2  39.780658 -105.053676  \n",
       "3  39.728651 -105.163032  \n",
       "4  39.783211 -105.088747  "
      ]
     },
     "execution_count": 6,
     "metadata": {},
     "output_type": "execute_result"
    }
   ],
   "source": [
    "# Testing set\n",
    "df_mess_test.head()"
   ]
  },
  {
   "cell_type": "code",
   "execution_count": 7,
   "metadata": {},
   "outputs": [
    {
     "data": {
      "text/html": [
       "<div>\n",
       "<style scoped>\n",
       "    .dataframe tbody tr th:only-of-type {\n",
       "        vertical-align: middle;\n",
       "    }\n",
       "\n",
       "    .dataframe tbody tr th {\n",
       "        vertical-align: top;\n",
       "    }\n",
       "\n",
       "    .dataframe thead th {\n",
       "        text-align: right;\n",
       "    }\n",
       "</style>\n",
       "<table border=\"1\" class=\"dataframe\">\n",
       "  <thead>\n",
       "    <tr style=\"text-align: right;\">\n",
       "      <th></th>\n",
       "      <th>bsid</th>\n",
       "      <th>did</th>\n",
       "      <th>nseq</th>\n",
       "      <th>rssi</th>\n",
       "      <th>time_ux</th>\n",
       "      <th>bs_lat</th>\n",
       "      <th>bs_lng</th>\n",
       "    </tr>\n",
       "  </thead>\n",
       "  <tbody>\n",
       "    <tr>\n",
       "      <th>count</th>\n",
       "      <td>29286.000000</td>\n",
       "      <td>29286.00000</td>\n",
       "      <td>29286.000000</td>\n",
       "      <td>29286.000000</td>\n",
       "      <td>2.928600e+04</td>\n",
       "      <td>29286.000000</td>\n",
       "      <td>29286.000000</td>\n",
       "    </tr>\n",
       "    <tr>\n",
       "      <th>mean</th>\n",
       "      <td>4643.290651</td>\n",
       "      <td>411306.93263</td>\n",
       "      <td>1.043075</td>\n",
       "      <td>-125.742454</td>\n",
       "      <td>1.472354e+12</td>\n",
       "      <td>42.332918</td>\n",
       "      <td>-101.228888</td>\n",
       "    </tr>\n",
       "    <tr>\n",
       "      <th>std</th>\n",
       "      <td>2578.625841</td>\n",
       "      <td>134472.75089</td>\n",
       "      <td>0.611285</td>\n",
       "      <td>8.861454</td>\n",
       "      <td>5.101975e+09</td>\n",
       "      <td>7.517469</td>\n",
       "      <td>11.198741</td>\n",
       "    </tr>\n",
       "    <tr>\n",
       "      <th>min</th>\n",
       "      <td>1012.000000</td>\n",
       "      <td>110335.00000</td>\n",
       "      <td>0.000000</td>\n",
       "      <td>-151.000000</td>\n",
       "      <td>1.463542e+12</td>\n",
       "      <td>36.528704</td>\n",
       "      <td>-110.957181</td>\n",
       "    </tr>\n",
       "    <tr>\n",
       "      <th>25%</th>\n",
       "      <td>2846.000000</td>\n",
       "      <td>472397.00000</td>\n",
       "      <td>1.000000</td>\n",
       "      <td>-132.000000</td>\n",
       "      <td>1.468001e+12</td>\n",
       "      <td>39.734330</td>\n",
       "      <td>-105.077530</td>\n",
       "    </tr>\n",
       "    <tr>\n",
       "      <th>50%</th>\n",
       "      <td>3563.000000</td>\n",
       "      <td>472504.00000</td>\n",
       "      <td>1.000000</td>\n",
       "      <td>-127.000000</td>\n",
       "      <td>1.472920e+12</td>\n",
       "      <td>39.777690</td>\n",
       "      <td>-105.045347</td>\n",
       "    </tr>\n",
       "    <tr>\n",
       "      <th>75%</th>\n",
       "      <td>7456.000000</td>\n",
       "      <td>472533.00000</td>\n",
       "      <td>1.500000</td>\n",
       "      <td>-121.000000</td>\n",
       "      <td>1.476688e+12</td>\n",
       "      <td>39.807916</td>\n",
       "      <td>-105.008827</td>\n",
       "    </tr>\n",
       "    <tr>\n",
       "      <th>max</th>\n",
       "      <td>11007.000000</td>\n",
       "      <td>473287.00000</td>\n",
       "      <td>2.000000</td>\n",
       "      <td>-63.000000</td>\n",
       "      <td>1.481142e+12</td>\n",
       "      <td>64.300000</td>\n",
       "      <td>-68.500000</td>\n",
       "    </tr>\n",
       "  </tbody>\n",
       "</table>\n",
       "</div>"
      ],
      "text/plain": [
       "               bsid           did          nseq          rssi       time_ux  \\\n",
       "count  29286.000000   29286.00000  29286.000000  29286.000000  2.928600e+04   \n",
       "mean    4643.290651  411306.93263      1.043075   -125.742454  1.472354e+12   \n",
       "std     2578.625841  134472.75089      0.611285      8.861454  5.101975e+09   \n",
       "min     1012.000000  110335.00000      0.000000   -151.000000  1.463542e+12   \n",
       "25%     2846.000000  472397.00000      1.000000   -132.000000  1.468001e+12   \n",
       "50%     3563.000000  472504.00000      1.000000   -127.000000  1.472920e+12   \n",
       "75%     7456.000000  472533.00000      1.500000   -121.000000  1.476688e+12   \n",
       "max    11007.000000  473287.00000      2.000000    -63.000000  1.481142e+12   \n",
       "\n",
       "             bs_lat        bs_lng  \n",
       "count  29286.000000  29286.000000  \n",
       "mean      42.332918   -101.228888  \n",
       "std        7.517469     11.198741  \n",
       "min       36.528704   -110.957181  \n",
       "25%       39.734330   -105.077530  \n",
       "50%       39.777690   -105.045347  \n",
       "75%       39.807916   -105.008827  \n",
       "max       64.300000    -68.500000  "
      ]
     },
     "execution_count": 7,
     "metadata": {},
     "output_type": "execute_result"
    }
   ],
   "source": [
    "df_mess_test.describe()"
   ]
  },
  {
   "cell_type": "code",
   "execution_count": 8,
   "metadata": {},
   "outputs": [
    {
     "data": {
      "text/plain": [
       "messid     0\n",
       "bsid       0\n",
       "did        0\n",
       "nseq       0\n",
       "rssi       0\n",
       "time_ux    0\n",
       "bs_lat     0\n",
       "bs_lng     0\n",
       "dtype: int64"
      ]
     },
     "execution_count": 8,
     "metadata": {},
     "output_type": "execute_result"
    }
   ],
   "source": [
    "df_mess_test.isnull().sum(axis = 0) #On regarde les NaN du df"
   ]
  },
  {
   "cell_type": "code",
   "execution_count": 9,
   "metadata": {},
   "outputs": [
    {
     "data": {
      "text/html": [
       "<div>\n",
       "<style scoped>\n",
       "    .dataframe tbody tr th:only-of-type {\n",
       "        vertical-align: middle;\n",
       "    }\n",
       "\n",
       "    .dataframe tbody tr th {\n",
       "        vertical-align: top;\n",
       "    }\n",
       "\n",
       "    .dataframe thead th {\n",
       "        text-align: right;\n",
       "    }\n",
       "</style>\n",
       "<table border=\"1\" class=\"dataframe\">\n",
       "  <thead>\n",
       "    <tr style=\"text-align: right;\">\n",
       "      <th></th>\n",
       "      <th>lat</th>\n",
       "      <th>lng</th>\n",
       "    </tr>\n",
       "  </thead>\n",
       "  <tbody>\n",
       "    <tr>\n",
       "      <th>0</th>\n",
       "      <td>39.606690</td>\n",
       "      <td>-104.958490</td>\n",
       "    </tr>\n",
       "    <tr>\n",
       "      <th>1</th>\n",
       "      <td>39.606690</td>\n",
       "      <td>-104.958490</td>\n",
       "    </tr>\n",
       "    <tr>\n",
       "      <th>2</th>\n",
       "      <td>39.637741</td>\n",
       "      <td>-104.958554</td>\n",
       "    </tr>\n",
       "    <tr>\n",
       "      <th>3</th>\n",
       "      <td>39.730417</td>\n",
       "      <td>-104.968940</td>\n",
       "    </tr>\n",
       "    <tr>\n",
       "      <th>4</th>\n",
       "      <td>39.730417</td>\n",
       "      <td>-104.968940</td>\n",
       "    </tr>\n",
       "  </tbody>\n",
       "</table>\n",
       "</div>"
      ],
      "text/plain": [
       "         lat         lng\n",
       "0  39.606690 -104.958490\n",
       "1  39.606690 -104.958490\n",
       "2  39.637741 -104.958554\n",
       "3  39.730417 -104.968940\n",
       "4  39.730417 -104.968940"
      ]
     },
     "execution_count": 9,
     "metadata": {},
     "output_type": "execute_result"
    }
   ],
   "source": [
    "# Label set\n",
    "pos_train.head()"
   ]
  },
  {
   "cell_type": "code",
   "execution_count": 10,
   "metadata": {},
   "outputs": [
    {
     "data": {
      "text/html": [
       "<div>\n",
       "<style scoped>\n",
       "    .dataframe tbody tr th:only-of-type {\n",
       "        vertical-align: middle;\n",
       "    }\n",
       "\n",
       "    .dataframe tbody tr th {\n",
       "        vertical-align: top;\n",
       "    }\n",
       "\n",
       "    .dataframe thead th {\n",
       "        text-align: right;\n",
       "    }\n",
       "</style>\n",
       "<table border=\"1\" class=\"dataframe\">\n",
       "  <thead>\n",
       "    <tr style=\"text-align: right;\">\n",
       "      <th></th>\n",
       "      <th>lat</th>\n",
       "      <th>lng</th>\n",
       "    </tr>\n",
       "  </thead>\n",
       "  <tbody>\n",
       "    <tr>\n",
       "      <th>count</th>\n",
       "      <td>39250.000000</td>\n",
       "      <td>39250.000000</td>\n",
       "    </tr>\n",
       "    <tr>\n",
       "      <th>mean</th>\n",
       "      <td>39.783333</td>\n",
       "      <td>-105.056343</td>\n",
       "    </tr>\n",
       "    <tr>\n",
       "      <th>std</th>\n",
       "      <td>0.206262</td>\n",
       "      <td>0.162954</td>\n",
       "    </tr>\n",
       "    <tr>\n",
       "      <th>min</th>\n",
       "      <td>35.770683</td>\n",
       "      <td>-107.630679</td>\n",
       "    </tr>\n",
       "    <tr>\n",
       "      <th>25%</th>\n",
       "      <td>39.708599</td>\n",
       "      <td>-105.060463</td>\n",
       "    </tr>\n",
       "    <tr>\n",
       "      <th>50%</th>\n",
       "      <td>39.776882</td>\n",
       "      <td>-105.039440</td>\n",
       "    </tr>\n",
       "    <tr>\n",
       "      <th>75%</th>\n",
       "      <td>39.805279</td>\n",
       "      <td>-105.018730</td>\n",
       "    </tr>\n",
       "    <tr>\n",
       "      <th>max</th>\n",
       "      <td>43.140387</td>\n",
       "      <td>-102.094289</td>\n",
       "    </tr>\n",
       "  </tbody>\n",
       "</table>\n",
       "</div>"
      ],
      "text/plain": [
       "                lat           lng\n",
       "count  39250.000000  39250.000000\n",
       "mean      39.783333   -105.056343\n",
       "std        0.206262      0.162954\n",
       "min       35.770683   -107.630679\n",
       "25%       39.708599   -105.060463\n",
       "50%       39.776882   -105.039440\n",
       "75%       39.805279   -105.018730\n",
       "max       43.140387   -102.094289"
      ]
     },
     "execution_count": 10,
     "metadata": {},
     "output_type": "execute_result"
    }
   ],
   "source": [
    "pos_train.describe()"
   ]
  },
  {
   "cell_type": "code",
   "execution_count": 11,
   "metadata": {},
   "outputs": [
    {
     "data": {
      "text/plain": [
       "lat    0\n",
       "lng    0\n",
       "dtype: int64"
      ]
     },
     "execution_count": 11,
     "metadata": {},
     "output_type": "execute_result"
    }
   ],
   "source": [
    "pos_train.isnull().sum(axis = 0) #On regarde les NaN du df"
   ]
  },
  {
   "cell_type": "markdown",
   "metadata": {},
   "source": [
    "> Pour simplifier la visualisation et la création de notre matrice de features, nous associons l'actuelle table des features à celle des positions (donc des labels). Nous réunissons également les datas de train et test pour faciliter l'exploration globale."
   ]
  },
  {
   "cell_type": "code",
   "execution_count": 12,
   "metadata": {},
   "outputs": [],
   "source": [
    "# On commence par joindre la table des features à celle des positions\n",
    "df_mess_train[['pos_lat', 'pos_lng']] = pos_train"
   ]
  },
  {
   "cell_type": "code",
   "execution_count": 13,
   "metadata": {},
   "outputs": [
    {
     "data": {
      "text/html": [
       "<div>\n",
       "<style scoped>\n",
       "    .dataframe tbody tr th:only-of-type {\n",
       "        vertical-align: middle;\n",
       "    }\n",
       "\n",
       "    .dataframe tbody tr th {\n",
       "        vertical-align: top;\n",
       "    }\n",
       "\n",
       "    .dataframe thead th {\n",
       "        text-align: right;\n",
       "    }\n",
       "</style>\n",
       "<table border=\"1\" class=\"dataframe\">\n",
       "  <thead>\n",
       "    <tr style=\"text-align: right;\">\n",
       "      <th></th>\n",
       "      <th>messid</th>\n",
       "      <th>bsid</th>\n",
       "      <th>did</th>\n",
       "      <th>nseq</th>\n",
       "      <th>rssi</th>\n",
       "      <th>time_ux</th>\n",
       "      <th>bs_lat</th>\n",
       "      <th>bs_lng</th>\n",
       "      <th>pos_lat</th>\n",
       "      <th>pos_lng</th>\n",
       "    </tr>\n",
       "  </thead>\n",
       "  <tbody>\n",
       "    <tr>\n",
       "      <th>0</th>\n",
       "      <td>573bf1d9864fce1a9af8c5c9</td>\n",
       "      <td>2841</td>\n",
       "      <td>473335.0</td>\n",
       "      <td>0.5</td>\n",
       "      <td>-121.5</td>\n",
       "      <td>1.463546e+12</td>\n",
       "      <td>39.617794</td>\n",
       "      <td>-104.954917</td>\n",
       "      <td>39.606690</td>\n",
       "      <td>-104.958490</td>\n",
       "    </tr>\n",
       "    <tr>\n",
       "      <th>1</th>\n",
       "      <td>573bf1d9864fce1a9af8c5c9</td>\n",
       "      <td>3526</td>\n",
       "      <td>473335.0</td>\n",
       "      <td>2.0</td>\n",
       "      <td>-125.0</td>\n",
       "      <td>1.463546e+12</td>\n",
       "      <td>39.677251</td>\n",
       "      <td>-104.952721</td>\n",
       "      <td>39.606690</td>\n",
       "      <td>-104.958490</td>\n",
       "    </tr>\n",
       "    <tr>\n",
       "      <th>2</th>\n",
       "      <td>573bf3533e952e19126b256a</td>\n",
       "      <td>2605</td>\n",
       "      <td>473335.0</td>\n",
       "      <td>1.0</td>\n",
       "      <td>-134.0</td>\n",
       "      <td>1.463547e+12</td>\n",
       "      <td>39.612745</td>\n",
       "      <td>-105.008827</td>\n",
       "      <td>39.637741</td>\n",
       "      <td>-104.958554</td>\n",
       "    </tr>\n",
       "    <tr>\n",
       "      <th>3</th>\n",
       "      <td>573c0cd0f0fe6e735a699b93</td>\n",
       "      <td>2610</td>\n",
       "      <td>473953.0</td>\n",
       "      <td>2.0</td>\n",
       "      <td>-132.0</td>\n",
       "      <td>1.463553e+12</td>\n",
       "      <td>39.797969</td>\n",
       "      <td>-105.073460</td>\n",
       "      <td>39.730417</td>\n",
       "      <td>-104.968940</td>\n",
       "    </tr>\n",
       "    <tr>\n",
       "      <th>4</th>\n",
       "      <td>573c0cd0f0fe6e735a699b93</td>\n",
       "      <td>3574</td>\n",
       "      <td>473953.0</td>\n",
       "      <td>1.0</td>\n",
       "      <td>-120.0</td>\n",
       "      <td>1.463553e+12</td>\n",
       "      <td>39.723151</td>\n",
       "      <td>-104.956216</td>\n",
       "      <td>39.730417</td>\n",
       "      <td>-104.968940</td>\n",
       "    </tr>\n",
       "  </tbody>\n",
       "</table>\n",
       "</div>"
      ],
      "text/plain": [
       "                     messid  bsid       did  nseq   rssi       time_ux  \\\n",
       "0  573bf1d9864fce1a9af8c5c9  2841  473335.0   0.5 -121.5  1.463546e+12   \n",
       "1  573bf1d9864fce1a9af8c5c9  3526  473335.0   2.0 -125.0  1.463546e+12   \n",
       "2  573bf3533e952e19126b256a  2605  473335.0   1.0 -134.0  1.463547e+12   \n",
       "3  573c0cd0f0fe6e735a699b93  2610  473953.0   2.0 -132.0  1.463553e+12   \n",
       "4  573c0cd0f0fe6e735a699b93  3574  473953.0   1.0 -120.0  1.463553e+12   \n",
       "\n",
       "      bs_lat      bs_lng    pos_lat     pos_lng  \n",
       "0  39.617794 -104.954917  39.606690 -104.958490  \n",
       "1  39.677251 -104.952721  39.606690 -104.958490  \n",
       "2  39.612745 -105.008827  39.637741 -104.958554  \n",
       "3  39.797969 -105.073460  39.730417 -104.968940  \n",
       "4  39.723151 -104.956216  39.730417 -104.968940  "
      ]
     },
     "execution_count": 13,
     "metadata": {},
     "output_type": "execute_result"
    }
   ],
   "source": [
    "df_mess_train.head()"
   ]
  },
  {
   "cell_type": "code",
   "execution_count": 14,
   "metadata": {},
   "outputs": [
    {
     "data": {
      "text/html": [
       "<div>\n",
       "<style scoped>\n",
       "    .dataframe tbody tr th:only-of-type {\n",
       "        vertical-align: middle;\n",
       "    }\n",
       "\n",
       "    .dataframe tbody tr th {\n",
       "        vertical-align: top;\n",
       "    }\n",
       "\n",
       "    .dataframe thead th {\n",
       "        text-align: right;\n",
       "    }\n",
       "</style>\n",
       "<table border=\"1\" class=\"dataframe\">\n",
       "  <thead>\n",
       "    <tr style=\"text-align: right;\">\n",
       "      <th></th>\n",
       "      <th>bsid</th>\n",
       "      <th>did</th>\n",
       "      <th>nseq</th>\n",
       "      <th>rssi</th>\n",
       "      <th>time_ux</th>\n",
       "      <th>bs_lat</th>\n",
       "      <th>bs_lng</th>\n",
       "      <th>pos_lat</th>\n",
       "      <th>pos_lng</th>\n",
       "    </tr>\n",
       "  </thead>\n",
       "  <tbody>\n",
       "    <tr>\n",
       "      <th>count</th>\n",
       "      <td>39250.000000</td>\n",
       "      <td>3.925000e+04</td>\n",
       "      <td>39250.000000</td>\n",
       "      <td>39250.000000</td>\n",
       "      <td>3.925000e+04</td>\n",
       "      <td>39250.000000</td>\n",
       "      <td>39250.000000</td>\n",
       "      <td>39250.000000</td>\n",
       "      <td>39250.000000</td>\n",
       "    </tr>\n",
       "    <tr>\n",
       "      <th>mean</th>\n",
       "      <td>4533.774752</td>\n",
       "      <td>4.835932e+05</td>\n",
       "      <td>1.043541</td>\n",
       "      <td>-125.863580</td>\n",
       "      <td>1.473368e+12</td>\n",
       "      <td>42.554998</td>\n",
       "      <td>-100.969685</td>\n",
       "      <td>39.783333</td>\n",
       "      <td>-105.056343</td>\n",
       "    </tr>\n",
       "    <tr>\n",
       "      <th>std</th>\n",
       "      <td>2570.495638</td>\n",
       "      <td>9.893140e+04</td>\n",
       "      <td>0.563540</td>\n",
       "      <td>9.226500</td>\n",
       "      <td>5.506910e+09</td>\n",
       "      <td>7.722787</td>\n",
       "      <td>11.522732</td>\n",
       "      <td>0.206262</td>\n",
       "      <td>0.162954</td>\n",
       "    </tr>\n",
       "    <tr>\n",
       "      <th>min</th>\n",
       "      <td>879.000000</td>\n",
       "      <td>4.732880e+05</td>\n",
       "      <td>0.000000</td>\n",
       "      <td>-155.000000</td>\n",
       "      <td>1.463546e+12</td>\n",
       "      <td>36.053394</td>\n",
       "      <td>-107.463146</td>\n",
       "      <td>35.770683</td>\n",
       "      <td>-107.630679</td>\n",
       "    </tr>\n",
       "    <tr>\n",
       "      <th>25%</th>\n",
       "      <td>2790.000000</td>\n",
       "      <td>4.761230e+05</td>\n",
       "      <td>1.000000</td>\n",
       "      <td>-132.500000</td>\n",
       "      <td>1.468410e+12</td>\n",
       "      <td>39.747448</td>\n",
       "      <td>-105.074287</td>\n",
       "      <td>39.708599</td>\n",
       "      <td>-105.060463</td>\n",
       "    </tr>\n",
       "    <tr>\n",
       "      <th>50%</th>\n",
       "      <td>3559.000000</td>\n",
       "      <td>4.763150e+05</td>\n",
       "      <td>1.000000</td>\n",
       "      <td>-127.333333</td>\n",
       "      <td>1.473444e+12</td>\n",
       "      <td>39.793585</td>\n",
       "      <td>-105.043685</td>\n",
       "      <td>39.776882</td>\n",
       "      <td>-105.039440</td>\n",
       "    </tr>\n",
       "    <tr>\n",
       "      <th>75%</th>\n",
       "      <td>7456.000000</td>\n",
       "      <td>4.766090e+05</td>\n",
       "      <td>1.500000</td>\n",
       "      <td>-121.000000</td>\n",
       "      <td>1.479118e+12</td>\n",
       "      <td>39.838740</td>\n",
       "      <td>-104.998429</td>\n",
       "      <td>39.805279</td>\n",
       "      <td>-105.018730</td>\n",
       "    </tr>\n",
       "    <tr>\n",
       "      <th>max</th>\n",
       "      <td>11951.000000</td>\n",
       "      <td>1.747448e+06</td>\n",
       "      <td>2.000000</td>\n",
       "      <td>-64.000000</td>\n",
       "      <td>1.481143e+12</td>\n",
       "      <td>64.300000</td>\n",
       "      <td>-68.500000</td>\n",
       "      <td>43.140387</td>\n",
       "      <td>-102.094289</td>\n",
       "    </tr>\n",
       "  </tbody>\n",
       "</table>\n",
       "</div>"
      ],
      "text/plain": [
       "               bsid           did          nseq          rssi       time_ux  \\\n",
       "count  39250.000000  3.925000e+04  39250.000000  39250.000000  3.925000e+04   \n",
       "mean    4533.774752  4.835932e+05      1.043541   -125.863580  1.473368e+12   \n",
       "std     2570.495638  9.893140e+04      0.563540      9.226500  5.506910e+09   \n",
       "min      879.000000  4.732880e+05      0.000000   -155.000000  1.463546e+12   \n",
       "25%     2790.000000  4.761230e+05      1.000000   -132.500000  1.468410e+12   \n",
       "50%     3559.000000  4.763150e+05      1.000000   -127.333333  1.473444e+12   \n",
       "75%     7456.000000  4.766090e+05      1.500000   -121.000000  1.479118e+12   \n",
       "max    11951.000000  1.747448e+06      2.000000    -64.000000  1.481143e+12   \n",
       "\n",
       "             bs_lat        bs_lng       pos_lat       pos_lng  \n",
       "count  39250.000000  39250.000000  39250.000000  39250.000000  \n",
       "mean      42.554998   -100.969685     39.783333   -105.056343  \n",
       "std        7.722787     11.522732      0.206262      0.162954  \n",
       "min       36.053394   -107.463146     35.770683   -107.630679  \n",
       "25%       39.747448   -105.074287     39.708599   -105.060463  \n",
       "50%       39.793585   -105.043685     39.776882   -105.039440  \n",
       "75%       39.838740   -104.998429     39.805279   -105.018730  \n",
       "max       64.300000    -68.500000     43.140387   -102.094289  "
      ]
     },
     "execution_count": 14,
     "metadata": {},
     "output_type": "execute_result"
    }
   ],
   "source": [
    "df_mess_train.describe()"
   ]
  },
  {
   "cell_type": "code",
   "execution_count": 15,
   "metadata": {},
   "outputs": [],
   "source": [
    "# on réunit les data de train et de test\n",
    "df_mess = pd.concat([df_mess_train, df_mess_test])"
   ]
  },
  {
   "cell_type": "markdown",
   "metadata": {},
   "source": [
    "### 1.3 Valeurs uniques\n",
    "> Repérons le nombre de valeurs uniques pour `df_mess_train`, `df_mess_test` et `df_mess` (réunion des deux). On utilise pour cela la méthode `.nunique` de `pandas`."
   ]
  },
  {
   "cell_type": "code",
   "execution_count": 16,
   "metadata": {},
   "outputs": [
    {
     "name": "stdout",
     "output_type": "stream",
     "text": [
      "--- Données d'entraînements ---\n",
      "\n",
      "Nombre de messages uniques : 6068\n",
      "Nombre de stations uniques : 251\n",
      "Nombre de devices uniques : 113\n",
      "Nombre de valeurs uniques de time_ux : 6067\n",
      "Nombre de valeurs uniques de rssi : 276\n",
      "Nombre de valeurs uniques de nseq: 5\n",
      "Nombre de valeurs uniques de bs_lat : 221\n",
      "Nombre de valeurs uniques de bs_lng: 221\n",
      "Nombre de valeurs uniques de poslat: 6004\n",
      "Nombre de valeurs uniques de poslng: 6004\n"
     ]
    }
   ],
   "source": [
    "print('--- Données d\\'entraînements ---\\n')\n",
    "print(\"Nombre de messages uniques : %d\" %df_mess_train.messid.nunique())\n",
    "print(\"Nombre de stations uniques : %d\" %df_mess_train.bsid.nunique())\n",
    "print(\"Nombre de devices uniques : %d\" %df_mess_train.did.nunique())\n",
    "print(\"Nombre de valeurs uniques de time_ux : %d\" %df_mess_train.time_ux.nunique())\n",
    "print(\"Nombre de valeurs uniques de rssi : %d\" %df_mess_train.rssi.nunique())\n",
    "print(\"Nombre de valeurs uniques de nseq: %d\" %df_mess_train.nseq.nunique())\n",
    "print(\"Nombre de valeurs uniques de bs_lat : %d\" %df_mess_train.bs_lat.nunique())\n",
    "print(\"Nombre de valeurs uniques de bs_lng: %d\" %df_mess_train.bs_lng.nunique())\n",
    "print(\"Nombre de valeurs uniques de poslat: %d\" %pos_train.lat.nunique())\n",
    "print(\"Nombre de valeurs uniques de poslng: %d\" %pos_train.lng.nunique())"
   ]
  },
  {
   "cell_type": "markdown",
   "metadata": {},
   "source": [
    "> On remarque ici que :\n",
    "* 2 messages on le même `time_ux`.\n",
    "* Il y a plus de `pos_lat` que de messages ce qui implique que nous devrons par exemple moyenner lors de la réunion des deux.\n",
    "* Il y a plus de stations que de `bs_lat` et `bs_lng`."
   ]
  },
  {
   "cell_type": "code",
   "execution_count": 17,
   "metadata": {},
   "outputs": [
    {
     "name": "stdout",
     "output_type": "stream",
     "text": [
      "--- Données de test ---\n",
      "\n",
      "Nombre de messages uniques : 5294\n",
      "Nombre de stations uniques : 168\n",
      "Nombre de devices uniques : 56\n",
      "Nombre de valeurs uniques dans time_ux : 5294\n",
      "Nombre de valeurs uniques de rssi : 255\n",
      "Nombre de valeurs uniques de nseq: 5\n",
      "Nombre de valeurs uniques de bs_lat : 142\n",
      "Nombre de valeurs uniques de bs_lng: 142\n"
     ]
    }
   ],
   "source": [
    "print('--- Données de test ---\\n')\n",
    "print(\"Nombre de messages uniques : %d\" %(df_mess_test.messid.nunique()))\n",
    "print(\"Nombre de stations uniques : %d\" %(df_mess_test.bsid.nunique()))\n",
    "print(\"Nombre de devices uniques : %d\" %(df_mess_test.did.nunique()))\n",
    "print(\"Nombre de valeurs uniques dans time_ux : %d\" %(df_mess_test.time_ux.nunique()))\n",
    "print(\"Nombre de valeurs uniques de rssi : %d\" %(df_mess_test.rssi.nunique()))\n",
    "print(\"Nombre de valeurs uniques de nseq: %d\" %(df_mess_test.nseq.nunique()))\n",
    "print(\"Nombre de valeurs uniques de bs_lat : %d\" %df_mess_test.bs_lat.nunique())\n",
    "print(\"Nombre de valeurs uniques de bs_lng: %d\" %df_mess_test.bs_lng.nunique())"
   ]
  },
  {
   "cell_type": "markdown",
   "metadata": {},
   "source": [
    "> On remarque, comme précédemment, que nous avons plus de stations que de `bs_lat` et `bs_lng`."
   ]
  },
  {
   "cell_type": "code",
   "execution_count": 18,
   "metadata": {},
   "outputs": [
    {
     "name": "stdout",
     "output_type": "stream",
     "text": [
      "--- Données d'entraînement et de test ---\n",
      "Nombre de messages uniques : 11362\n",
      "Nombre de stations uniques : 259\n",
      "Nombre de devices uniques : 169\n",
      "Nombre de valeurs uniques de time_ux : 11360\n",
      "Nombre de valeurs uniques de rssi : 286\n",
      "Nombre de valeurs uniques de nseq: 5\n",
      "Nombre de valeurs uniques de bs_lat : 227\n",
      "Nombre de valeurs uniques de bs_lng: 227\n"
     ]
    }
   ],
   "source": [
    "print('--- Données d\\'entraînement et de test ---')\n",
    "print(\"Nombre de messages uniques : %d\" %df_mess.messid.nunique())\n",
    "print(\"Nombre de stations uniques : %d\" %df_mess.bsid.nunique())\n",
    "print(\"Nombre de devices uniques : %d\" %df_mess.did.nunique())\n",
    "print(\"Nombre de valeurs uniques de time_ux : %d\" %df_mess.time_ux.nunique())\n",
    "print(\"Nombre de valeurs uniques de rssi : %d\" %df_mess.rssi.nunique())\n",
    "print(\"Nombre de valeurs uniques de nseq: %d\" %df_mess.nseq.nunique())\n",
    "print(\"Nombre de valeurs uniques de bs_lat : %d\" %df_mess.bs_lat.nunique())\n",
    "print(\"Nombre de valeurs uniques de bs_lng: %d\" %df_mess.bs_lng.nunique())"
   ]
  },
  {
   "cell_type": "markdown",
   "metadata": {},
   "source": [
    "> On remarque que le nombre de messages et de devices est exactement la somme du jeu d'entraînement et de celui de test. Nous pouvons donc deviner qu'il n'y a pas d'intersection. Les remarques précédentes au sujet des stations se retrouve également ici."
   ]
  },
  {
   "cell_type": "markdown",
   "metadata": {},
   "source": [
    "### 1.4 Distribution des valeurs pour les différentes variables\n",
    "> Intéressons-nous ici à la distribution des valeurs pour certaines variables de notre jeu d'entraînement et celui de validation.\n",
    "\n",
    "#### `nseq`"
   ]
  },
  {
   "cell_type": "code",
   "execution_count": 19,
   "metadata": {},
   "outputs": [
    {
     "data": {
      "image/png": "[encoded data removed]",
      "text/plain": [
       "<Figure size 1008x288 with 2 Axes>"
      ]
     },
     "metadata": {
      "needs_background": "light"
     },
     "output_type": "display_data"
    }
   ],
   "source": [
    "plt.figure(figsize=(14,4))\n",
    "plt.subplot(121)\n",
    "plt.hist(df_mess_train.nseq, color='red')\n",
    "plt.title(\"Distribution des valeurs de nseq - Train \\n\")\n",
    "plt.subplot(122)\n",
    "plt.hist(df_mess_test.nseq, color='blue')\n",
    "plt.title(\"Distribution des valeurs de nseq - Test \\n\")\n",
    "plt.show()"
   ]
  },
  {
   "cell_type": "markdown",
   "metadata": {},
   "source": [
    "> Nous avons donc ici des valeurs catégorielles avec une distribution assez similaire entre le jeu d'entraînement et celui de test."
   ]
  },
  {
   "cell_type": "markdown",
   "metadata": {},
   "source": [
    "#### `rssi`"
   ]
  },
  {
   "cell_type": "code",
   "execution_count": 20,
   "metadata": {},
   "outputs": [
    {
     "data": {
      "image/png": "[encoded data removed]",
      "text/plain": [
       "<Figure size 1008x288 with 2 Axes>"
      ]
     },
     "metadata": {
      "needs_background": "light"
     },
     "output_type": "display_data"
    }
   ],
   "source": [
    "plt.figure(figsize=(14,4))\n",
    "plt.subplot(121)\n",
    "sns.distplot(df_mess_train.rssi, bins=200, color='red')\n",
    "plt.title(\"Distribution des valeurs de rssi - Train \\n\")\n",
    "plt.subplot(122)\n",
    "sns.distplot(df_mess_test.rssi, bins=200, color='blue')\n",
    "plt.title(\"Distribution des valeurs de rssi - Test \\n\")\n",
    "plt.show()"
   ]
  },
  {
   "cell_type": "markdown",
   "metadata": {},
   "source": [
    "> Là encore, la distribution semble équivalente entre le jeu d'entraînement et celui de test. "
   ]
  },
  {
   "cell_type": "markdown",
   "metadata": {},
   "source": [
    "#### `time_ux`"
   ]
  },
  {
   "cell_type": "code",
   "execution_count": 21,
   "metadata": {},
   "outputs": [
    {
     "data": {
      "image/png": "[encoded data removed]",
      "text/plain": [
       "<Figure size 1008x288 with 2 Axes>"
      ]
     },
     "metadata": {
      "needs_background": "light"
     },
     "output_type": "display_data"
    }
   ],
   "source": [
    "plt.figure(figsize=(14,4))\n",
    "plt.subplot(121)\n",
    "sns.distplot(df_mess_train.time_ux, bins=100, kde=False, color='red')\n",
    "plt.title(\"Distribution des valeurs de time_ux - Train \\n\")\n",
    "plt.subplot(122)\n",
    "sns.distplot(df_mess_test.time_ux, bins=100, kde=False, color='blue')\n",
    "plt.title(\"Distribution des valeurs de time_ux - Test \\n\")\n",
    "plt.show()"
   ]
  },
  {
   "cell_type": "markdown",
   "metadata": {},
   "source": [
    "> Les distributions sont ici différentes mais toutes deux comprises entre les mêmes bornes.\n",
    "\n",
    "#### `bsid`"
   ]
  },
  {
   "cell_type": "code",
   "execution_count": 22,
   "metadata": {},
   "outputs": [
    {
     "data": {
      "image/png": "[encoded data removed]",
      "text/plain": [
       "<Figure size 1008x288 with 2 Axes>"
      ]
     },
     "metadata": {
      "needs_background": "light"
     },
     "output_type": "display_data"
    }
   ],
   "source": [
    "plt.figure(figsize=(14,4))\n",
    "plt.subplot(121)\n",
    "sns.distplot(df_mess_train.bsid, bins=100, kde=False, color='red')\n",
    "plt.title(\"Distribution du nombre de messages par bsid - Train \\n\")\n",
    "plt.subplot(122)\n",
    "sns.distplot(df_mess_test.bsid, bins=100, kde=False, color='blue')\n",
    "plt.title(\"Distribution du nombre de messages par bsid - Test \\n\")\n",
    "plt.show()"
   ]
  },
  {
   "cell_type": "markdown",
   "metadata": {},
   "source": [
    "> Il est ici à noter que certaines stations recoivent beaucoup plus de messages que d'autres. Cela sera donc à prendre en compte lors de l'analyse des catégories peu représentées. La distribution est en revanche similaire entre le jeu d'entraînement et celui de test.\n",
    "\n",
    "#### `did`"
   ]
  },
  {
   "cell_type": "code",
   "execution_count": 23,
   "metadata": {},
   "outputs": [
    {
     "data": {
      "image/png": "[encoded data removed]",
      "text/plain": [
       "<Figure size 1008x288 with 2 Axes>"
      ]
     },
     "metadata": {
      "needs_background": "light"
     },
     "output_type": "display_data"
    }
   ],
   "source": [
    "plt.figure(figsize=(14,4))\n",
    "plt.subplot(121)\n",
    "abcisse = list((x for x in range(0,df_mess_train.did.nunique())))\n",
    "plt.bar(abcisse, list(df_mess_train.groupby(['did']).messid.nunique()), width=1, color='red')\n",
    "plt.title(\"Distribution du nombre de messages par device id - Train\")\n",
    "plt.subplot(122)\n",
    "abcisse = list((x for x in range(0,df_mess_test.did.nunique())))\n",
    "plt.bar(abcisse, list(df_mess_test.groupby(['did']).messid.nunique()), width=0.5, color='blue')\n",
    "plt.title(\"Distribution du nombre de messages par device id - Test\")\n",
    "plt.show()"
   ]
  },
  {
   "cell_type": "markdown",
   "metadata": {},
   "source": [
    "> Il faut ici noter que les valeurs des id de devices sont très différentes. Certains devices recevant beaucoup plus de messages que d'autres. Il faudra donc regarder le nombre de messages par device_id et analyser les device_id peu représentés."
   ]
  },
  {
   "cell_type": "markdown",
   "metadata": {},
   "source": [
    "### 1.5 Corrélation entre variables\n",
    "> Analysons ici les corrélations entre variables"
   ]
  },
  {
   "cell_type": "code",
   "execution_count": 24,
   "metadata": {},
   "outputs": [
    {
     "data": {
      "image/png": "[encoded data removed]",
      "text/plain": [
       "<Figure size 1120x400 with 4 Axes>"
      ]
     },
     "metadata": {
      "needs_background": "light"
     },
     "output_type": "display_data"
    }
   ],
   "source": [
    "plt.figure(figsize=(14,5), dpi=80)\n",
    "plt.subplot(121)\n",
    "sns.heatmap(df_mess_train.corr(), cmap='PuOr', center=0, annot=True)\n",
    "plt.title('Matrice de corrélation - Train\\n', fontsize=12)\n",
    "plt.subplot(122)\n",
    "sns.heatmap(df_mess_test.corr(), cmap='PuOr', center=0, annot=True)\n",
    "plt.title('Matrice de corrélation - Test \\n', fontsize=12)\n",
    "plt.show()"
   ]
  },
  {
   "cell_type": "markdown",
   "metadata": {},
   "source": [
    "> On note donc qu'il n'y a peu de corrélations significatives entre variables, exception faite entre la longitude et la lattitude des stations.\n",
    "\n",
    "### 1.6 Détection de valeurs aberrantes (*outliers*)\n",
    "> Intéressons-nous ici aux valeurs aberrantes aussi nommées les *outliers*."
   ]
  },
  {
   "cell_type": "code",
   "execution_count": 25,
   "metadata": {},
   "outputs": [
    {
     "data": {
      "image/png": "[encoded data removed]",
      "text/plain": [
       "<Figure size 504x288 with 1 Axes>"
      ]
     },
     "metadata": {
      "needs_background": "light"
     },
     "output_type": "display_data"
    }
   ],
   "source": [
    "plt.figure(figsize=(7,4))\n",
    "plt.plot(df_mess_train['bs_lat'], df_mess_train['bs_lng'], 'x', color='red')\n",
    "plt.title('Position des stations pour le jeu d\\'entraînement \\n')\n",
    "plt.xlabel('Base Station Lat')\n",
    "plt.ylabel('Base Station Long')\n",
    "plt.show()"
   ]
  },
  {
   "cell_type": "markdown",
   "metadata": {},
   "source": [
    "> On constate donc ici que des stations sont éloignées des autres. Ces stations se trouvent à une longitude de -70 et une lattitude de 65. Voyons si cela se révèle aussi dans le jeu de test."
   ]
  },
  {
   "cell_type": "code",
   "execution_count": 26,
   "metadata": {},
   "outputs": [
    {
     "data": {
      "image/png": "[encoded data removed]",
      "text/plain": [
       "<Figure size 504x288 with 1 Axes>"
      ]
     },
     "metadata": {
      "needs_background": "light"
     },
     "output_type": "display_data"
    }
   ],
   "source": [
    "plt.figure(figsize=(7,4))\n",
    "plt.plot(df_mess_test['bs_lat'], df_mess_test['bs_lng'], 'x', color='blue')\n",
    "plt.title(\"Position des stations pour le jeu de test \\n'\")\n",
    "plt.xlabel(\"Lattitude\")\n",
    "plt.ylabel(\"Longitude\")\n",
    "plt.show()"
   ]
  },
  {
   "cell_type": "markdown",
   "metadata": {},
   "source": [
    "> On constate que les stations isolées se trouvent également dans le jeu de test. Voyons toutefois si des messages semblent bien avoir été émis depuis des longitudes et lattitudes similaires."
   ]
  },
  {
   "cell_type": "code",
   "execution_count": 27,
   "metadata": {},
   "outputs": [
    {
     "data": {
      "image/png": "[encoded data removed]",
      "text/plain": [
       "<Figure size 504x288 with 1 Axes>"
      ]
     },
     "metadata": {
      "needs_background": "light"
     },
     "output_type": "display_data"
    }
   ],
   "source": [
    "plt.figure(figsize=(7,4))\n",
    "plt.plot(df_mess_train.pos_lat, df_mess_train.pos_lng, \"x\", color='red')\n",
    "plt.title(\"Position réelle d'envoi du message \\n\")\n",
    "plt.xlabel(\"Lattitude\")\n",
    "plt.ylabel(\"Longitude\")\n",
    "plt.show()"
   ]
  },
  {
   "cell_type": "markdown",
   "metadata": {},
   "source": [
    "> Il est donc ici clair qu'aucun message n'a été envoyé à des longitudes et lattitudes prochent de -70 et 65. En conséquence, nous en déduisons que les lattitudes et longitudes de ces stations sont erronées et il convient de définir d'une stratégie pour traiter ces anomalies. \n",
    "\n",
    "> Voyons donc si le nombre de messages associé à ces stations est important."
   ]
  },
  {
   "cell_type": "code",
   "execution_count": 28,
   "metadata": {},
   "outputs": [
    {
     "data": {
      "text/html": [
       "<div>\n",
       "<style scoped>\n",
       "    .dataframe tbody tr th:only-of-type {\n",
       "        vertical-align: middle;\n",
       "    }\n",
       "\n",
       "    .dataframe tbody tr th {\n",
       "        vertical-align: top;\n",
       "    }\n",
       "\n",
       "    .dataframe thead th {\n",
       "        text-align: right;\n",
       "    }\n",
       "</style>\n",
       "<table border=\"1\" class=\"dataframe\">\n",
       "  <thead>\n",
       "    <tr style=\"text-align: right;\">\n",
       "      <th></th>\n",
       "      <th>messid</th>\n",
       "      <th>bsid</th>\n",
       "      <th>did</th>\n",
       "      <th>nseq</th>\n",
       "      <th>rssi</th>\n",
       "      <th>time_ux</th>\n",
       "      <th>bs_lat</th>\n",
       "      <th>bs_lng</th>\n",
       "      <th>pos_lat</th>\n",
       "      <th>pos_lng</th>\n",
       "    </tr>\n",
       "  </thead>\n",
       "  <tbody>\n",
       "    <tr>\n",
       "      <th>5106</th>\n",
       "      <td>57617e1ef0fe6e0c9fd6eb06</td>\n",
       "      <td>8355</td>\n",
       "      <td>476606.0</td>\n",
       "      <td>1.5</td>\n",
       "      <td>-106.5</td>\n",
       "      <td>1.466007e+12</td>\n",
       "      <td>64.3</td>\n",
       "      <td>-68.5</td>\n",
       "      <td>39.778694</td>\n",
       "      <td>-104.977050</td>\n",
       "    </tr>\n",
       "    <tr>\n",
       "      <th>5118</th>\n",
       "      <td>576180cf3e952e04b3b41e5c</td>\n",
       "      <td>8355</td>\n",
       "      <td>476512.0</td>\n",
       "      <td>0.5</td>\n",
       "      <td>-111.5</td>\n",
       "      <td>1.466008e+12</td>\n",
       "      <td>64.3</td>\n",
       "      <td>-68.5</td>\n",
       "      <td>39.783396</td>\n",
       "      <td>-104.999821</td>\n",
       "    </tr>\n",
       "    <tr>\n",
       "      <th>5179</th>\n",
       "      <td>5761a161f0fe6e0c9fec42b9</td>\n",
       "      <td>8355</td>\n",
       "      <td>473683.0</td>\n",
       "      <td>0.0</td>\n",
       "      <td>-126.0</td>\n",
       "      <td>1.466016e+12</td>\n",
       "      <td>64.3</td>\n",
       "      <td>-68.5</td>\n",
       "      <td>39.803407</td>\n",
       "      <td>-105.019300</td>\n",
       "    </tr>\n",
       "    <tr>\n",
       "      <th>5216</th>\n",
       "      <td>57623817864fce5689ec33af</td>\n",
       "      <td>8355</td>\n",
       "      <td>473683.0</td>\n",
       "      <td>0.5</td>\n",
       "      <td>-127.0</td>\n",
       "      <td>1.466055e+12</td>\n",
       "      <td>64.3</td>\n",
       "      <td>-68.5</td>\n",
       "      <td>39.803738</td>\n",
       "      <td>-105.018997</td>\n",
       "    </tr>\n",
       "    <tr>\n",
       "      <th>5416</th>\n",
       "      <td>5763734c864fce5689a422f3</td>\n",
       "      <td>8355</td>\n",
       "      <td>476600.0</td>\n",
       "      <td>1.5</td>\n",
       "      <td>-123.0</td>\n",
       "      <td>1.466135e+12</td>\n",
       "      <td>64.3</td>\n",
       "      <td>-68.5</td>\n",
       "      <td>39.803101</td>\n",
       "      <td>-105.023292</td>\n",
       "    </tr>\n",
       "    <tr>\n",
       "      <th>...</th>\n",
       "      <td>...</td>\n",
       "      <td>...</td>\n",
       "      <td>...</td>\n",
       "      <td>...</td>\n",
       "      <td>...</td>\n",
       "      <td>...</td>\n",
       "      <td>...</td>\n",
       "      <td>...</td>\n",
       "      <td>...</td>\n",
       "      <td>...</td>\n",
       "    </tr>\n",
       "    <tr>\n",
       "      <th>39237</th>\n",
       "      <td>58485bd412f14360d78bebdb</td>\n",
       "      <td>4987</td>\n",
       "      <td>476207.0</td>\n",
       "      <td>1.5</td>\n",
       "      <td>-130.5</td>\n",
       "      <td>1.481137e+12</td>\n",
       "      <td>64.3</td>\n",
       "      <td>-68.5</td>\n",
       "      <td>39.778872</td>\n",
       "      <td>-105.019285</td>\n",
       "    </tr>\n",
       "    <tr>\n",
       "      <th>39238</th>\n",
       "      <td>58485bd412f14360d78bebdb</td>\n",
       "      <td>4993</td>\n",
       "      <td>476207.0</td>\n",
       "      <td>0.0</td>\n",
       "      <td>-132.0</td>\n",
       "      <td>1.481137e+12</td>\n",
       "      <td>64.3</td>\n",
       "      <td>-68.5</td>\n",
       "      <td>39.778872</td>\n",
       "      <td>-105.019285</td>\n",
       "    </tr>\n",
       "    <tr>\n",
       "      <th>39241</th>\n",
       "      <td>58485bd412f14360d78bebdb</td>\n",
       "      <td>10151</td>\n",
       "      <td>476207.0</td>\n",
       "      <td>1.0</td>\n",
       "      <td>-122.0</td>\n",
       "      <td>1.481137e+12</td>\n",
       "      <td>64.3</td>\n",
       "      <td>-68.5</td>\n",
       "      <td>39.778872</td>\n",
       "      <td>-105.019285</td>\n",
       "    </tr>\n",
       "    <tr>\n",
       "      <th>39242</th>\n",
       "      <td>58485bd412f14360d78bebdb</td>\n",
       "      <td>11007</td>\n",
       "      <td>476207.0</td>\n",
       "      <td>1.0</td>\n",
       "      <td>-121.0</td>\n",
       "      <td>1.481137e+12</td>\n",
       "      <td>64.3</td>\n",
       "      <td>-68.5</td>\n",
       "      <td>39.778872</td>\n",
       "      <td>-105.019285</td>\n",
       "    </tr>\n",
       "    <tr>\n",
       "      <th>39244</th>\n",
       "      <td>5848672e12f14360d7942374</td>\n",
       "      <td>2943</td>\n",
       "      <td>476257.0</td>\n",
       "      <td>1.5</td>\n",
       "      <td>-115.0</td>\n",
       "      <td>1.481140e+12</td>\n",
       "      <td>64.3</td>\n",
       "      <td>-68.5</td>\n",
       "      <td>39.773264</td>\n",
       "      <td>-105.014052</td>\n",
       "    </tr>\n",
       "  </tbody>\n",
       "</table>\n",
       "<p>4389 rows × 10 columns</p>\n",
       "</div>"
      ],
      "text/plain": [
       "                         messid   bsid       did  nseq   rssi       time_ux  \\\n",
       "5106   57617e1ef0fe6e0c9fd6eb06   8355  476606.0   1.5 -106.5  1.466007e+12   \n",
       "5118   576180cf3e952e04b3b41e5c   8355  476512.0   0.5 -111.5  1.466008e+12   \n",
       "5179   5761a161f0fe6e0c9fec42b9   8355  473683.0   0.0 -126.0  1.466016e+12   \n",
       "5216   57623817864fce5689ec33af   8355  473683.0   0.5 -127.0  1.466055e+12   \n",
       "5416   5763734c864fce5689a422f3   8355  476600.0   1.5 -123.0  1.466135e+12   \n",
       "...                         ...    ...       ...   ...    ...           ...   \n",
       "39237  58485bd412f14360d78bebdb   4987  476207.0   1.5 -130.5  1.481137e+12   \n",
       "39238  58485bd412f14360d78bebdb   4993  476207.0   0.0 -132.0  1.481137e+12   \n",
       "39241  58485bd412f14360d78bebdb  10151  476207.0   1.0 -122.0  1.481137e+12   \n",
       "39242  58485bd412f14360d78bebdb  11007  476207.0   1.0 -121.0  1.481137e+12   \n",
       "39244  5848672e12f14360d7942374   2943  476257.0   1.5 -115.0  1.481140e+12   \n",
       "\n",
       "       bs_lat  bs_lng    pos_lat     pos_lng  \n",
       "5106     64.3   -68.5  39.778694 -104.977050  \n",
       "5118     64.3   -68.5  39.783396 -104.999821  \n",
       "5179     64.3   -68.5  39.803407 -105.019300  \n",
       "5216     64.3   -68.5  39.803738 -105.018997  \n",
       "5416     64.3   -68.5  39.803101 -105.023292  \n",
       "...       ...     ...        ...         ...  \n",
       "39237    64.3   -68.5  39.778872 -105.019285  \n",
       "39238    64.3   -68.5  39.778872 -105.019285  \n",
       "39241    64.3   -68.5  39.778872 -105.019285  \n",
       "39242    64.3   -68.5  39.778872 -105.019285  \n",
       "39244    64.3   -68.5  39.773264 -105.014052  \n",
       "\n",
       "[4389 rows x 10 columns]"
      ]
     },
     "execution_count": 28,
     "metadata": {},
     "output_type": "execute_result"
    }
   ],
   "source": [
    "# Base station ayant une latitude > 60\n",
    "df_mess_train[df_mess_train['bs_lat']>60]"
   ]
  },
  {
   "cell_type": "code",
   "execution_count": 29,
   "metadata": {},
   "outputs": [
    {
     "data": {
      "text/html": [
       "<div>\n",
       "<style scoped>\n",
       "    .dataframe tbody tr th:only-of-type {\n",
       "        vertical-align: middle;\n",
       "    }\n",
       "\n",
       "    .dataframe tbody tr th {\n",
       "        vertical-align: top;\n",
       "    }\n",
       "\n",
       "    .dataframe thead th {\n",
       "        text-align: right;\n",
       "    }\n",
       "</style>\n",
       "<table border=\"1\" class=\"dataframe\">\n",
       "  <thead>\n",
       "    <tr style=\"text-align: right;\">\n",
       "      <th></th>\n",
       "      <th>bsid</th>\n",
       "      <th>did</th>\n",
       "      <th>nseq</th>\n",
       "      <th>rssi</th>\n",
       "      <th>time_ux</th>\n",
       "      <th>bs_lat</th>\n",
       "      <th>bs_lng</th>\n",
       "      <th>pos_lat</th>\n",
       "      <th>pos_lng</th>\n",
       "    </tr>\n",
       "  </thead>\n",
       "  <tbody>\n",
       "    <tr>\n",
       "      <th>count</th>\n",
       "      <td>4389.000000</td>\n",
       "      <td>4.389000e+03</td>\n",
       "      <td>4389.000000</td>\n",
       "      <td>4389.000000</td>\n",
       "      <td>4.389000e+03</td>\n",
       "      <td>4.389000e+03</td>\n",
       "      <td>4389.0</td>\n",
       "      <td>4389.000000</td>\n",
       "      <td>4389.000000</td>\n",
       "    </tr>\n",
       "    <tr>\n",
       "      <th>mean</th>\n",
       "      <td>6144.622465</td>\n",
       "      <td>4.986286e+05</td>\n",
       "      <td>1.038847</td>\n",
       "      <td>-125.300828</td>\n",
       "      <td>1.476081e+12</td>\n",
       "      <td>6.430000e+01</td>\n",
       "      <td>-68.5</td>\n",
       "      <td>39.759422</td>\n",
       "      <td>-105.029877</td>\n",
       "    </tr>\n",
       "    <tr>\n",
       "      <th>std</th>\n",
       "      <td>3451.227827</td>\n",
       "      <td>1.690960e+05</td>\n",
       "      <td>0.601033</td>\n",
       "      <td>9.230369</td>\n",
       "      <td>4.015779e+09</td>\n",
       "      <td>1.421247e-14</td>\n",
       "      <td>0.0</td>\n",
       "      <td>0.072178</td>\n",
       "      <td>0.051676</td>\n",
       "    </tr>\n",
       "    <tr>\n",
       "      <th>min</th>\n",
       "      <td>1092.000000</td>\n",
       "      <td>4.732880e+05</td>\n",
       "      <td>0.000000</td>\n",
       "      <td>-142.000000</td>\n",
       "      <td>1.466007e+12</td>\n",
       "      <td>6.430000e+01</td>\n",
       "      <td>-68.5</td>\n",
       "      <td>39.537137</td>\n",
       "      <td>-107.066221</td>\n",
       "    </tr>\n",
       "    <tr>\n",
       "      <th>25%</th>\n",
       "      <td>2707.000000</td>\n",
       "      <td>4.741810e+05</td>\n",
       "      <td>1.000000</td>\n",
       "      <td>-132.000000</td>\n",
       "      <td>1.472799e+12</td>\n",
       "      <td>6.430000e+01</td>\n",
       "      <td>-68.5</td>\n",
       "      <td>39.707218</td>\n",
       "      <td>-105.047845</td>\n",
       "    </tr>\n",
       "    <tr>\n",
       "      <th>50%</th>\n",
       "      <td>4993.000000</td>\n",
       "      <td>4.763150e+05</td>\n",
       "      <td>1.000000</td>\n",
       "      <td>-127.000000</td>\n",
       "      <td>1.477406e+12</td>\n",
       "      <td>6.430000e+01</td>\n",
       "      <td>-68.5</td>\n",
       "      <td>39.773364</td>\n",
       "      <td>-105.028769</td>\n",
       "    </tr>\n",
       "    <tr>\n",
       "      <th>75%</th>\n",
       "      <td>10151.000000</td>\n",
       "      <td>4.768290e+05</td>\n",
       "      <td>1.500000</td>\n",
       "      <td>-120.500000</td>\n",
       "      <td>1.479316e+12</td>\n",
       "      <td>6.430000e+01</td>\n",
       "      <td>-68.5</td>\n",
       "      <td>39.792541</td>\n",
       "      <td>-105.018591</td>\n",
       "    </tr>\n",
       "    <tr>\n",
       "      <th>max</th>\n",
       "      <td>11951.000000</td>\n",
       "      <td>1.747448e+06</td>\n",
       "      <td>2.000000</td>\n",
       "      <td>-69.333333</td>\n",
       "      <td>1.481140e+12</td>\n",
       "      <td>6.430000e+01</td>\n",
       "      <td>-68.5</td>\n",
       "      <td>42.452279</td>\n",
       "      <td>-104.921795</td>\n",
       "    </tr>\n",
       "  </tbody>\n",
       "</table>\n",
       "</div>"
      ],
      "text/plain": [
       "               bsid           did         nseq         rssi       time_ux  \\\n",
       "count   4389.000000  4.389000e+03  4389.000000  4389.000000  4.389000e+03   \n",
       "mean    6144.622465  4.986286e+05     1.038847  -125.300828  1.476081e+12   \n",
       "std     3451.227827  1.690960e+05     0.601033     9.230369  4.015779e+09   \n",
       "min     1092.000000  4.732880e+05     0.000000  -142.000000  1.466007e+12   \n",
       "25%     2707.000000  4.741810e+05     1.000000  -132.000000  1.472799e+12   \n",
       "50%     4993.000000  4.763150e+05     1.000000  -127.000000  1.477406e+12   \n",
       "75%    10151.000000  4.768290e+05     1.500000  -120.500000  1.479316e+12   \n",
       "max    11951.000000  1.747448e+06     2.000000   -69.333333  1.481140e+12   \n",
       "\n",
       "             bs_lat  bs_lng      pos_lat      pos_lng  \n",
       "count  4.389000e+03  4389.0  4389.000000  4389.000000  \n",
       "mean   6.430000e+01   -68.5    39.759422  -105.029877  \n",
       "std    1.421247e-14     0.0     0.072178     0.051676  \n",
       "min    6.430000e+01   -68.5    39.537137  -107.066221  \n",
       "25%    6.430000e+01   -68.5    39.707218  -105.047845  \n",
       "50%    6.430000e+01   -68.5    39.773364  -105.028769  \n",
       "75%    6.430000e+01   -68.5    39.792541  -105.018591  \n",
       "max    6.430000e+01   -68.5    42.452279  -104.921795  "
      ]
     },
     "execution_count": 29,
     "metadata": {},
     "output_type": "execute_result"
    }
   ],
   "source": [
    "# Base station ayant une latitude > 60\n",
    "df_mess_train[df_mess_train['bs_lat']>60].describe()"
   ]
  },
  {
   "cell_type": "code",
   "execution_count": 30,
   "metadata": {},
   "outputs": [
    {
     "data": {
      "text/plain": [
       "array([ 8355, 11007,  1594, 10151, 10162,  8451,  4993,  8560,  2293,\n",
       "        4959, 10999,  1661,  8449,  4156,  4129,  1743,  4987,  1772,\n",
       "        1796,  2707,  2943,  4123, 11951,  9784,  1092,  1854,  7248])"
      ]
     },
     "execution_count": 30,
     "metadata": {},
     "output_type": "execute_result"
    }
   ],
   "source": [
    "list_bs_outliers = df_mess_train[df_mess_train['bs_lat']>60].bsid.unique()\n",
    "list_bs_outliers"
   ]
  },
  {
   "cell_type": "code",
   "execution_count": 31,
   "metadata": {},
   "outputs": [
    {
     "name": "stdout",
     "output_type": "stream",
     "text": [
      "Nombre de message associé au bsid :\n",
      " bsid\n",
      "4959       1\n",
      "10999      1\n",
      "9784       1\n",
      "4123       1\n",
      "11951      1\n",
      "2293       2\n",
      "7248       9\n",
      "1854      27\n",
      "1092      32\n",
      "8449      72\n",
      "2943      90\n",
      "8560     116\n",
      "1772     121\n",
      "4156     127\n",
      "4987     147\n",
      "1661     160\n",
      "1743     169\n",
      "2707     191\n",
      "8451     193\n",
      "4129     216\n",
      "1796     249\n",
      "11007    275\n",
      "1594     290\n",
      "10151    333\n",
      "8355     480\n",
      "4993     488\n",
      "10162    597\n",
      "Name: messid, dtype: int64\n",
      "\n",
      "Nombre de message total associé aux bsid dont bs_lat > 60 : 4389 \n"
     ]
    }
   ],
   "source": [
    "print('Nombre de message associé au bsid :\\n', \n",
    "      df_mess_train[df_mess_train['bs_lat']>60].groupby('bsid').count()['messid']\n",
    "      .sort_values(ascending=True))\n",
    "\n",
    "print(\"\\nNombre de message total associé aux bsid dont bs_lat > 60 : {} \"\n",
    "      .format(df_mess_train[df_mess_train['bs_lat']>60].groupby('bsid').count()['messid'].sum()))"
   ]
  },
  {
   "cell_type": "markdown",
   "metadata": {},
   "source": [
    "> On a donc identifié les stations de bases (au nombre de 27) qui ont une position très suspectes par rapport aux autres stations. De plus, nous savons maintenant combien de messages sont associés à chacune de ces stations. Le nombre total de messages pour toutes les stations est assez significatif, environ 4 000 sur 39 000 au total, soit approximativement 10\\%. \n",
    "\n",
    "> Toutefois, ne sachant comment les traiter autrement qu'en les supprimant puisque nous ne pouvons pas trouver facilement la position exacte de ces stations, **nous décidons de les supprimer** malgré tout. Ceci nous permettra d'éviter d'induire en erreur notre algorithme et donc de fausser les prédicitons."
   ]
  },
  {
   "cell_type": "code",
   "execution_count": 32,
   "metadata": {},
   "outputs": [],
   "source": [
    "# On retire les données liées aux stations ayant une latitude > 60\n",
    "index_to_remove1 = df_mess_train[df_mess_train['bs_lat']>60].index.values\n",
    "df_mess_train = df_mess_train.drop(index_to_remove1)"
   ]
  },
  {
   "cell_type": "markdown",
   "metadata": {},
   "source": [
    "### 1.7 Détection des classes peu représentées\n",
    "> On va ici essayer de trouver les stations qui traitent peu de messages pour potentiellement les enlever du jeu d'entraînement afin de ne garder que les stations les plus représentatives et donc d'avoir les catégories les plus fiables pour réaliser des prédicitions."
   ]
  },
  {
   "cell_type": "code",
   "execution_count": 33,
   "metadata": {},
   "outputs": [
    {
     "data": {
      "image/png": "[encoded data removed]",
      "text/plain": [
       "<Figure size 576x432 with 1 Axes>"
      ]
     },
     "metadata": {
      "needs_background": "light"
     },
     "output_type": "display_data"
    }
   ],
   "source": [
    "# On repère les base stations qui ne reçoivent pas beaucoup de messages\n",
    "count_basestation = df_mess_train.groupby('bsid').count()\n",
    "count_basestation = count_basestation['messid']\n",
    "mes_limit = 500 # limite en dessous de laquelle nous estimons les stations comme peu représentatives\n",
    "\n",
    "plt.figure(figsize=(8,6))\n",
    "count_basestation_cum = count_basestation.sort_values(ascending=True).cumsum()\n",
    "plt.plot(count_basestation_cum.values)\n",
    "\n",
    "x = [0, count_basestation_cum.count()]\n",
    "y = [mes_limit, mes_limit]\n",
    "plt.plot(x, y, color ='black')\n",
    "plt.title(\"Somme cumulée des messages en fonction des {} stations \\n\".format(df_mess_train.bsid.nunique()), size=12)\n",
    "plt.show()"
   ]
  },
  {
   "cell_type": "code",
   "execution_count": 34,
   "metadata": {},
   "outputs": [
    {
     "name": "stdout",
     "output_type": "stream",
     "text": [
      "Nombre de stations en dessous de la droite noire : 95\n"
     ]
    }
   ],
   "source": [
    "print(\"Nombre de stations en dessous de la droite noire : {}\".format((count_basestation_cum < mes_limit).sum()))"
   ]
  },
  {
   "cell_type": "markdown",
   "metadata": {},
   "source": [
    "> On constate donc qu'il y a 95 stations qui recoivent peu de messages mais qu'ensuite, les autres en recoivent significativement plus. **Nous décidons donc de retirer les stations recevant peu de messages.**"
   ]
  },
  {
   "cell_type": "code",
   "execution_count": 35,
   "metadata": {},
   "outputs": [],
   "source": [
    "# Les bsid qui ne reçoivent pas beaucoup de messages sont retirés des données d'entraînement\n",
    "bsid_to_remove = count_basestation_cum[count_basestation_cum < mes_limit].index.values\n",
    "df_mess_train = df_mess_train[~df_mess_train.bsid.isin(bsid_to_remove)]"
   ]
  },
  {
   "cell_type": "code",
   "execution_count": 36,
   "metadata": {},
   "outputs": [],
   "source": [
    "# Remise des index par défaut pour le train dataframe pour la jointure des dataframes par la suite\n",
    "df_mess_train = df_mess_train.reset_index().drop(columns=['index'])\n",
    "n_train = df_mess_train.shape[0]"
   ]
  },
  {
   "cell_type": "markdown",
   "metadata": {},
   "source": [
    "---\n",
    "## **2. Features engineering**"
   ]
  },
  {
   "cell_type": "code",
   "execution_count": 37,
   "metadata": {},
   "outputs": [
    {
     "data": {
      "text/html": [
       "<div>\n",
       "<style scoped>\n",
       "    .dataframe tbody tr th:only-of-type {\n",
       "        vertical-align: middle;\n",
       "    }\n",
       "\n",
       "    .dataframe tbody tr th {\n",
       "        vertical-align: top;\n",
       "    }\n",
       "\n",
       "    .dataframe thead th {\n",
       "        text-align: right;\n",
       "    }\n",
       "</style>\n",
       "<table border=\"1\" class=\"dataframe\">\n",
       "  <thead>\n",
       "    <tr style=\"text-align: right;\">\n",
       "      <th></th>\n",
       "      <th>bsid</th>\n",
       "      <th>did</th>\n",
       "      <th>nseq</th>\n",
       "      <th>rssi</th>\n",
       "      <th>time_ux</th>\n",
       "      <th>bs_lat</th>\n",
       "      <th>bs_lng</th>\n",
       "    </tr>\n",
       "  </thead>\n",
       "  <tbody>\n",
       "    <tr>\n",
       "      <th>count</th>\n",
       "      <td>63651.000000</td>\n",
       "      <td>6.365100e+04</td>\n",
       "      <td>63651.000000</td>\n",
       "      <td>63651.000000</td>\n",
       "      <td>6.365100e+04</td>\n",
       "      <td>63651.000000</td>\n",
       "      <td>63651.000000</td>\n",
       "    </tr>\n",
       "    <tr>\n",
       "      <th>mean</th>\n",
       "      <td>4476.977220</td>\n",
       "      <td>4.493606e+05</td>\n",
       "      <td>1.043605</td>\n",
       "      <td>-125.815915</td>\n",
       "      <td>1.472705e+12</td>\n",
       "      <td>40.973488</td>\n",
       "      <td>-103.298637</td>\n",
       "    </tr>\n",
       "    <tr>\n",
       "      <th>std</th>\n",
       "      <td>2467.815203</td>\n",
       "      <td>1.166196e+05</td>\n",
       "      <td>0.583179</td>\n",
       "      <td>9.053277</td>\n",
       "      <td>5.371508e+09</td>\n",
       "      <td>5.255648</td>\n",
       "      <td>7.833795</td>\n",
       "    </tr>\n",
       "    <tr>\n",
       "      <th>min</th>\n",
       "      <td>1012.000000</td>\n",
       "      <td>1.103350e+05</td>\n",
       "      <td>0.000000</td>\n",
       "      <td>-155.000000</td>\n",
       "      <td>1.463542e+12</td>\n",
       "      <td>36.528704</td>\n",
       "      <td>-110.957181</td>\n",
       "    </tr>\n",
       "    <tr>\n",
       "      <th>25%</th>\n",
       "      <td>2799.000000</td>\n",
       "      <td>4.725040e+05</td>\n",
       "      <td>1.000000</td>\n",
       "      <td>-132.000000</td>\n",
       "      <td>1.467966e+12</td>\n",
       "      <td>39.743521</td>\n",
       "      <td>-105.077530</td>\n",
       "    </tr>\n",
       "    <tr>\n",
       "      <th>50%</th>\n",
       "      <td>3559.000000</td>\n",
       "      <td>4.738050e+05</td>\n",
       "      <td>1.000000</td>\n",
       "      <td>-127.000000</td>\n",
       "      <td>1.472889e+12</td>\n",
       "      <td>39.779908</td>\n",
       "      <td>-105.047757</td>\n",
       "    </tr>\n",
       "    <tr>\n",
       "      <th>75%</th>\n",
       "      <td>7382.000000</td>\n",
       "      <td>4.763270e+05</td>\n",
       "      <td>1.500000</td>\n",
       "      <td>-121.000000</td>\n",
       "      <td>1.477417e+12</td>\n",
       "      <td>39.810509</td>\n",
       "      <td>-105.009416</td>\n",
       "    </tr>\n",
       "    <tr>\n",
       "      <th>max</th>\n",
       "      <td>11007.000000</td>\n",
       "      <td>1.747448e+06</td>\n",
       "      <td>2.000000</td>\n",
       "      <td>-63.000000</td>\n",
       "      <td>1.481143e+12</td>\n",
       "      <td>64.300000</td>\n",
       "      <td>-68.500000</td>\n",
       "    </tr>\n",
       "  </tbody>\n",
       "</table>\n",
       "</div>"
      ],
      "text/plain": [
       "               bsid           did          nseq          rssi       time_ux  \\\n",
       "count  63651.000000  6.365100e+04  63651.000000  63651.000000  6.365100e+04   \n",
       "mean    4476.977220  4.493606e+05      1.043605   -125.815915  1.472705e+12   \n",
       "std     2467.815203  1.166196e+05      0.583179      9.053277  5.371508e+09   \n",
       "min     1012.000000  1.103350e+05      0.000000   -155.000000  1.463542e+12   \n",
       "25%     2799.000000  4.725040e+05      1.000000   -132.000000  1.467966e+12   \n",
       "50%     3559.000000  4.738050e+05      1.000000   -127.000000  1.472889e+12   \n",
       "75%     7382.000000  4.763270e+05      1.500000   -121.000000  1.477417e+12   \n",
       "max    11007.000000  1.747448e+06      2.000000    -63.000000  1.481143e+12   \n",
       "\n",
       "             bs_lat        bs_lng  \n",
       "count  63651.000000  63651.000000  \n",
       "mean      40.973488   -103.298637  \n",
       "std        5.255648      7.833795  \n",
       "min       36.528704   -110.957181  \n",
       "25%       39.743521   -105.077530  \n",
       "50%       39.779908   -105.047757  \n",
       "75%       39.810509   -105.009416  \n",
       "max       64.300000    -68.500000  "
      ]
     },
     "execution_count": 37,
     "metadata": {},
     "output_type": "execute_result"
    }
   ],
   "source": [
    "# On concatène le df d'entraînement et celui de test\n",
    "df_concat = pd.concat([df_mess_train.iloc[:,:-2], df_mess_test])\n",
    "df_concat.describe()"
   ]
  },
  {
   "cell_type": "markdown",
   "metadata": {},
   "source": [
    "### **2.1 Catégorisation des stations**"
   ]
  },
  {
   "cell_type": "code",
   "execution_count": 38,
   "metadata": {},
   "outputs": [],
   "source": [
    "# On détermine tous les stations prises en compte dans le jeu d'entraînement, après suppression \n",
    "# des stations peu représentées et aberrantes, ainsi que celles dans le jeu de test\n",
    "\n",
    "listOfBs = df_concat.bsid.unique()\n",
    "listNameBs = [\"bs\"+str(code) for code in listOfBs]"
   ]
  },
  {
   "cell_type": "code",
   "execution_count": 39,
   "metadata": {},
   "outputs": [
    {
     "name": "stdout",
     "output_type": "stream",
     "text": [
      "Nombre de stations finales prises en compte :  178\n"
     ]
    }
   ],
   "source": [
    "print(\"Nombre de stations finales prises en compte : \", len(listOfBs))"
   ]
  },
  {
   "cell_type": "code",
   "execution_count": 40,
   "metadata": {},
   "outputs": [],
   "source": [
    "# OneHotEncoder pour bsid\n",
    "ohe = OneHotEncoder()\n",
    "X_bsid = ohe.fit_transform(df_concat[['bsid']]).toarray()\n",
    "\n",
    "df_bsid_train = pd.DataFrame(X_bsid[:n_train,:], columns = listNameBs)\n",
    "df_bsid_test = pd.DataFrame(X_bsid[n_train:,:], columns = listNameBs)"
   ]
  },
  {
   "cell_type": "code",
   "execution_count": 41,
   "metadata": {},
   "outputs": [],
   "source": [
    "# On rajoute les colonnes de notre encodeur à nos dataset d'entraînement et celui de test\n",
    "df_mess_train[listNameBs] = df_bsid_train\n",
    "df_mess_test[listNameBs] = df_bsid_test"
   ]
  },
  {
   "cell_type": "markdown",
   "metadata": {},
   "source": [
    "### **2.2 On met de côté la liste des device ID**\n",
    "> On garde le `did` associé à chaque message, pour pouvoir l'utiliser dans le dataset final."
   ]
  },
  {
   "cell_type": "code",
   "execution_count": 42,
   "metadata": {},
   "outputs": [],
   "source": [
    "listOfDid = df_concat.did.unique()\n",
    "listNameDid = [\"did\"+str(int(i)) for i in listOfDid]"
   ]
  },
  {
   "cell_type": "code",
   "execution_count": 43,
   "metadata": {},
   "outputs": [
    {
     "name": "stdout",
     "output_type": "stream",
     "text": [
      "Nombre de devices ID pris en compte au final:  168\n"
     ]
    }
   ],
   "source": [
    "print(\"Nombre de devices ID pris en compte au final: \", len(listOfDid))"
   ]
  },
  {
   "cell_type": "code",
   "execution_count": 44,
   "metadata": {},
   "outputs": [],
   "source": [
    "# On garde les did\n",
    "df_grouped_train_did = df_mess_train.groupby(['messid', 'did']).count().reset_index(level=['did'])[\"did\"]\n",
    "df_grouped_test_did = df_mess_test.groupby(['messid', 'did']).count().reset_index(level='did')[\"did\"]"
   ]
  },
  {
   "cell_type": "markdown",
   "metadata": {},
   "source": [
    "### **2.3 On groupe par `messid`**"
   ]
  },
  {
   "cell_type": "code",
   "execution_count": 45,
   "metadata": {},
   "outputs": [],
   "source": [
    "df_grouped_train = df_mess_train.groupby(['messid'])\n",
    "df_grouped_test = df_mess_test.groupby(['messid'])"
   ]
  },
  {
   "cell_type": "markdown",
   "metadata": {},
   "source": [
    "#### Regroupement des `bsid` par `messid`\n",
    "> On met ici à 1 tous les `bsid` du `messid` correspondant."
   ]
  },
  {
   "cell_type": "code",
   "execution_count": 46,
   "metadata": {},
   "outputs": [],
   "source": [
    "# On récupère tous les stations concernées par un messid donné\n",
    "df_bsid_grouped_train = df_grouped_train.sum()[listNameBs]\n",
    "df_bsid_grouped_test = df_grouped_test.sum()[listNameBs]"
   ]
  },
  {
   "cell_type": "code",
   "execution_count": 47,
   "metadata": {},
   "outputs": [
    {
     "data": {
      "text/html": [
       "<div>\n",
       "<style scoped>\n",
       "    .dataframe tbody tr th:only-of-type {\n",
       "        vertical-align: middle;\n",
       "    }\n",
       "\n",
       "    .dataframe tbody tr th {\n",
       "        vertical-align: top;\n",
       "    }\n",
       "\n",
       "    .dataframe thead th {\n",
       "        text-align: right;\n",
       "    }\n",
       "</style>\n",
       "<table border=\"1\" class=\"dataframe\">\n",
       "  <thead>\n",
       "    <tr style=\"text-align: right;\">\n",
       "      <th></th>\n",
       "      <th>bs2841</th>\n",
       "      <th>bs3526</th>\n",
       "      <th>bs2605</th>\n",
       "      <th>bs2610</th>\n",
       "      <th>bs3574</th>\n",
       "      <th>bs8474</th>\n",
       "      <th>bs1859</th>\n",
       "      <th>bs3025</th>\n",
       "      <th>bs8082</th>\n",
       "      <th>bs1086</th>\n",
       "      <th>...</th>\n",
       "      <th>bs4987</th>\n",
       "      <th>bs1743</th>\n",
       "      <th>bs1772</th>\n",
       "      <th>bs1796</th>\n",
       "      <th>bs1131</th>\n",
       "      <th>bs2707</th>\n",
       "      <th>bs2943</th>\n",
       "      <th>bs1092</th>\n",
       "      <th>bs1854</th>\n",
       "      <th>bs7248</th>\n",
       "    </tr>\n",
       "    <tr>\n",
       "      <th>messid</th>\n",
       "      <th></th>\n",
       "      <th></th>\n",
       "      <th></th>\n",
       "      <th></th>\n",
       "      <th></th>\n",
       "      <th></th>\n",
       "      <th></th>\n",
       "      <th></th>\n",
       "      <th></th>\n",
       "      <th></th>\n",
       "      <th></th>\n",
       "      <th></th>\n",
       "      <th></th>\n",
       "      <th></th>\n",
       "      <th></th>\n",
       "      <th></th>\n",
       "      <th></th>\n",
       "      <th></th>\n",
       "      <th></th>\n",
       "      <th></th>\n",
       "      <th></th>\n",
       "    </tr>\n",
       "  </thead>\n",
       "  <tbody>\n",
       "    <tr>\n",
       "      <th>573bf1d9864fce1a9af8c5c9</th>\n",
       "      <td>0.0</td>\n",
       "      <td>0.0</td>\n",
       "      <td>0.0</td>\n",
       "      <td>0.0</td>\n",
       "      <td>0.0</td>\n",
       "      <td>0.0</td>\n",
       "      <td>0.0</td>\n",
       "      <td>0.0</td>\n",
       "      <td>0.0</td>\n",
       "      <td>0.0</td>\n",
       "      <td>...</td>\n",
       "      <td>0.0</td>\n",
       "      <td>0.0</td>\n",
       "      <td>0.0</td>\n",
       "      <td>0.0</td>\n",
       "      <td>0.0</td>\n",
       "      <td>0.0</td>\n",
       "      <td>0.0</td>\n",
       "      <td>0.0</td>\n",
       "      <td>0.0</td>\n",
       "      <td>0.0</td>\n",
       "    </tr>\n",
       "    <tr>\n",
       "      <th>573bf3533e952e19126b256a</th>\n",
       "      <td>0.0</td>\n",
       "      <td>0.0</td>\n",
       "      <td>0.0</td>\n",
       "      <td>0.0</td>\n",
       "      <td>0.0</td>\n",
       "      <td>0.0</td>\n",
       "      <td>0.0</td>\n",
       "      <td>0.0</td>\n",
       "      <td>0.0</td>\n",
       "      <td>0.0</td>\n",
       "      <td>...</td>\n",
       "      <td>0.0</td>\n",
       "      <td>0.0</td>\n",
       "      <td>0.0</td>\n",
       "      <td>0.0</td>\n",
       "      <td>0.0</td>\n",
       "      <td>0.0</td>\n",
       "      <td>0.0</td>\n",
       "      <td>0.0</td>\n",
       "      <td>0.0</td>\n",
       "      <td>0.0</td>\n",
       "    </tr>\n",
       "    <tr>\n",
       "      <th>573c0cd0f0fe6e735a699b93</th>\n",
       "      <td>0.0</td>\n",
       "      <td>0.0</td>\n",
       "      <td>0.0</td>\n",
       "      <td>0.0</td>\n",
       "      <td>0.0</td>\n",
       "      <td>0.0</td>\n",
       "      <td>0.0</td>\n",
       "      <td>0.0</td>\n",
       "      <td>0.0</td>\n",
       "      <td>0.0</td>\n",
       "      <td>...</td>\n",
       "      <td>0.0</td>\n",
       "      <td>0.0</td>\n",
       "      <td>0.0</td>\n",
       "      <td>0.0</td>\n",
       "      <td>0.0</td>\n",
       "      <td>0.0</td>\n",
       "      <td>0.0</td>\n",
       "      <td>0.0</td>\n",
       "      <td>0.0</td>\n",
       "      <td>0.0</td>\n",
       "    </tr>\n",
       "    <tr>\n",
       "      <th>573c1272f0fe6e735a6cb8bd</th>\n",
       "      <td>0.0</td>\n",
       "      <td>0.0</td>\n",
       "      <td>0.0</td>\n",
       "      <td>0.0</td>\n",
       "      <td>0.0</td>\n",
       "      <td>0.0</td>\n",
       "      <td>0.0</td>\n",
       "      <td>0.0</td>\n",
       "      <td>0.0</td>\n",
       "      <td>0.0</td>\n",
       "      <td>...</td>\n",
       "      <td>0.0</td>\n",
       "      <td>0.0</td>\n",
       "      <td>0.0</td>\n",
       "      <td>0.0</td>\n",
       "      <td>0.0</td>\n",
       "      <td>0.0</td>\n",
       "      <td>0.0</td>\n",
       "      <td>0.0</td>\n",
       "      <td>0.0</td>\n",
       "      <td>0.0</td>\n",
       "    </tr>\n",
       "    <tr>\n",
       "      <th>573c8ea8864fce1a9a5fbf7a</th>\n",
       "      <td>0.0</td>\n",
       "      <td>1.0</td>\n",
       "      <td>0.0</td>\n",
       "      <td>0.0</td>\n",
       "      <td>0.0</td>\n",
       "      <td>0.0</td>\n",
       "      <td>0.0</td>\n",
       "      <td>0.0</td>\n",
       "      <td>0.0</td>\n",
       "      <td>0.0</td>\n",
       "      <td>...</td>\n",
       "      <td>0.0</td>\n",
       "      <td>0.0</td>\n",
       "      <td>1.0</td>\n",
       "      <td>0.0</td>\n",
       "      <td>0.0</td>\n",
       "      <td>0.0</td>\n",
       "      <td>0.0</td>\n",
       "      <td>0.0</td>\n",
       "      <td>0.0</td>\n",
       "      <td>0.0</td>\n",
       "    </tr>\n",
       "  </tbody>\n",
       "</table>\n",
       "<p>5 rows × 178 columns</p>\n",
       "</div>"
      ],
      "text/plain": [
       "                          bs2841  bs3526  bs2605  bs2610  bs3574  bs8474  \\\n",
       "messid                                                                     \n",
       "573bf1d9864fce1a9af8c5c9     0.0     0.0     0.0     0.0     0.0     0.0   \n",
       "573bf3533e952e19126b256a     0.0     0.0     0.0     0.0     0.0     0.0   \n",
       "573c0cd0f0fe6e735a699b93     0.0     0.0     0.0     0.0     0.0     0.0   \n",
       "573c1272f0fe6e735a6cb8bd     0.0     0.0     0.0     0.0     0.0     0.0   \n",
       "573c8ea8864fce1a9a5fbf7a     0.0     1.0     0.0     0.0     0.0     0.0   \n",
       "\n",
       "                          bs1859  bs3025  bs8082  bs1086  ...  bs4987  bs1743  \\\n",
       "messid                                                    ...                   \n",
       "573bf1d9864fce1a9af8c5c9     0.0     0.0     0.0     0.0  ...     0.0     0.0   \n",
       "573bf3533e952e19126b256a     0.0     0.0     0.0     0.0  ...     0.0     0.0   \n",
       "573c0cd0f0fe6e735a699b93     0.0     0.0     0.0     0.0  ...     0.0     0.0   \n",
       "573c1272f0fe6e735a6cb8bd     0.0     0.0     0.0     0.0  ...     0.0     0.0   \n",
       "573c8ea8864fce1a9a5fbf7a     0.0     0.0     0.0     0.0  ...     0.0     0.0   \n",
       "\n",
       "                          bs1772  bs1796  bs1131  bs2707  bs2943  bs1092  \\\n",
       "messid                                                                     \n",
       "573bf1d9864fce1a9af8c5c9     0.0     0.0     0.0     0.0     0.0     0.0   \n",
       "573bf3533e952e19126b256a     0.0     0.0     0.0     0.0     0.0     0.0   \n",
       "573c0cd0f0fe6e735a699b93     0.0     0.0     0.0     0.0     0.0     0.0   \n",
       "573c1272f0fe6e735a6cb8bd     0.0     0.0     0.0     0.0     0.0     0.0   \n",
       "573c8ea8864fce1a9a5fbf7a     1.0     0.0     0.0     0.0     0.0     0.0   \n",
       "\n",
       "                          bs1854  bs7248  \n",
       "messid                                    \n",
       "573bf1d9864fce1a9af8c5c9     0.0     0.0  \n",
       "573bf3533e952e19126b256a     0.0     0.0  \n",
       "573c0cd0f0fe6e735a699b93     0.0     0.0  \n",
       "573c1272f0fe6e735a6cb8bd     0.0     0.0  \n",
       "573c8ea8864fce1a9a5fbf7a     0.0     0.0  \n",
       "\n",
       "[5 rows x 178 columns]"
      ]
     },
     "execution_count": 47,
     "metadata": {},
     "output_type": "execute_result"
    }
   ],
   "source": [
    "df_bsid_grouped_train.head()"
   ]
  },
  {
   "cell_type": "code",
   "execution_count": 48,
   "metadata": {},
   "outputs": [
    {
     "data": {
      "text/plain": [
       "messid\n",
       "573bf1d9864fce1a9af8c5c9    2.0\n",
       "dtype: float64"
      ]
     },
     "execution_count": 48,
     "metadata": {},
     "output_type": "execute_result"
    }
   ],
   "source": [
    "# essai du compte de bsid sur un messid en particulier\n",
    "df_bsid_grouped_train.loc[['573bf1d9864fce1a9af8c5c9']].sum(axis=1)"
   ]
  },
  {
   "cell_type": "markdown",
   "metadata": {},
   "source": [
    "#### Nombre de `bsid` par `messid`"
   ]
  },
  {
   "cell_type": "code",
   "execution_count": 49,
   "metadata": {},
   "outputs": [],
   "source": [
    "# On crée la variable du nombre total de bsid par message\n",
    "count_bsid_grouped_train = df_bsid_grouped_train.sum(axis=1).values\n",
    "count_bsid_grouped_test = df_bsid_grouped_test.sum(axis=1).values"
   ]
  },
  {
   "cell_type": "code",
   "execution_count": 52,
   "metadata": {},
   "outputs": [
    {
     "name": "stdout",
     "output_type": "stream",
     "text": [
      "train :  min =  1.0 ; max =  67.0\n",
      "test :  min =  1.0 ; max =  64.0\n"
     ]
    }
   ],
   "source": [
    "print('train : ','min = ', count_bsid_grouped_train.min(), '; max = ', count_bsid_grouped_train.max())\n",
    "print('test : ','min = ', count_bsid_grouped_test.min(), '; max = ', count_bsid_grouped_test.max())"
   ]
  },
  {
   "cell_type": "markdown",
   "metadata": {},
   "source": [
    " #### DeviceID du MessID"
   ]
  },
  {
   "cell_type": "code",
   "execution_count": 53,
   "metadata": {
    "ExecuteTime": {
     "end_time": "2019-01-07T18:20:33.181374Z",
     "start_time": "2019-01-07T18:20:32.891729Z"
    }
   },
   "outputs": [],
   "source": [
    "# Moyenne des Device ID par messid, en fait ce n'est pas la moyenne, c'est l'unique did du message !\n",
    "did_grouped_train = df_grouped_train.mean()['did'].values\n",
    "did_grouped_test = df_grouped_test.mean()['did'].values"
   ]
  },
  {
   "cell_type": "markdown",
   "metadata": {},
   "source": [
    " #### Moyenne du RSSI par MessID"
   ]
  },
  {
   "cell_type": "code",
   "execution_count": 54,
   "metadata": {
    "ExecuteTime": {
     "end_time": "2019-01-07T18:20:33.449723Z",
     "start_time": "2019-01-07T18:20:33.181374Z"
    }
   },
   "outputs": [],
   "source": [
    "# Moyenne du RSSI par messid\n",
    "rssi_grouped_train = df_grouped_train.mean()['rssi'].values\n",
    "rssi_grouped_test = df_grouped_test.mean()['rssi'].values"
   ]
  },
  {
   "cell_type": "markdown",
   "metadata": {},
   "source": [
    "#### Moyenne des lat/long des bs qui ont reçu le message  "
   ]
  },
  {
   "cell_type": "code",
   "execution_count": 55,
   "metadata": {
    "ExecuteTime": {
     "end_time": "2019-01-07T18:20:33.996532Z",
     "start_time": "2019-01-07T18:20:33.449723Z"
    }
   },
   "outputs": [],
   "source": [
    "# Addition de features latitude et longitude moyenne\n",
    "lat_grouped_train = df_grouped_train.mean()['bs_lat'].values\n",
    "lat_grouped_test = df_grouped_test.mean()['bs_lat'].values\n",
    "\n",
    "lng_grouped_train = df_grouped_train.mean()['bs_lng'].values\n",
    "lng_grouped_test = df_grouped_test.mean()['bs_lng'].values"
   ]
  },
  {
   "cell_type": "markdown",
   "metadata": {},
   "source": [
    "#### Moyenne des lat/long pondérée par le RSSI "
   ]
  },
  {
   "cell_type": "code",
   "execution_count": 56,
   "metadata": {},
   "outputs": [],
   "source": [
    "# Addition de features latitude et longitude moyenne pondérées par rssi\n",
    "lat_rssi_grouped_train = np.array([np.average(elmt['bs_lat'], weights=elmt['rssi']) for key, elmt in df_grouped_train])\n",
    "lat_rssi_grouped_test = np.array([np.average(elmt['bs_lat'], weights=elmt['rssi']) for key, elmt in df_grouped_test])\n",
    "\n",
    "lng_rssi_grouped_train = np.array([np.average(elmt['bs_lng'], weights=elmt['rssi']) for key, elmt in df_grouped_train])\n",
    "lng_rssi_grouped_test = np.array([np.average(elmt['bs_lng'], weights=elmt['rssi']) for key, elmt in df_grouped_test])                                      "
   ]
  },
  {
   "cell_type": "markdown",
   "metadata": {},
   "source": [
    "#### Moyenne des time_ux des bs qui ont reçu le message  "
   ]
  },
  {
   "cell_type": "code",
   "execution_count": 57,
   "metadata": {
    "ExecuteTime": {
     "end_time": "2019-01-07T18:20:45.460027Z",
     "start_time": "2019-01-07T18:20:45.189212Z"
    }
   },
   "outputs": [],
   "source": [
    "# Moyenne time_ux par messid\n",
    "time_ux_grouped_train = df_grouped_train.mean()['time_ux'].values\n",
    "time_ux_grouped_test = df_grouped_test.mean()['time_ux'].values"
   ]
  },
  {
   "cell_type": "markdown",
   "metadata": {},
   "source": [
    "#### Moyenne des lat/long pondérée par le time_ux "
   ]
  },
  {
   "cell_type": "code",
   "execution_count": 58,
   "metadata": {},
   "outputs": [],
   "source": [
    "# lat/long pondérées par time_ux\n",
    "time_ux_lat_grouped_train = np.array([np.average(elmt['bs_lat'], weights=elmt['time_ux']) for key, elmt in df_grouped_train])\n",
    "time_ux_lat_grouped_test = np.array([np.average(elmt['bs_lat'], weights=elmt['time_ux']) for key, elmt in df_grouped_test])\n",
    "\n",
    "time_ux_lng_grouped_train = np.array([np.average(elmt['bs_lng'], weights=elmt['time_ux']) for key, elmt in df_grouped_train])\n",
    "time_ux_lng_grouped_test = np.array([np.average(elmt['bs_lng'], weights=elmt['time_ux']) for key, elmt in df_grouped_test])"
   ]
  },
  {
   "cell_type": "markdown",
   "metadata": {},
   "source": [
    "#### Moyenne des lat/long pondérée par le nseq "
   ]
  },
  {
   "cell_type": "code",
   "execution_count": 59,
   "metadata": {},
   "outputs": [],
   "source": [
    "# lat/long pondérées par nseq+1 (pour éviter les nseq à 0 !)\n",
    "nseq_lat_grouped_train = np.array([np.average(elmt['bs_lat'], weights=elmt['nseq']+1) for key, elmt in df_grouped_train])\n",
    "nseq_lat_grouped_test = np.array([np.average(elmt['bs_lat'], weights=elmt['nseq']+1) for key, elmt in df_grouped_test])\n",
    "\n",
    "nseq_lng_grouped_train = np.array([np.average(elmt['bs_lng'], weights=elmt['nseq']+1) for key, elmt in df_grouped_train])\n",
    "nseq_lng_grouped_test = np.array([np.average(elmt['bs_lng'], weights=elmt['nseq']+1) for key, elmt in df_grouped_test])"
   ]
  },
  {
   "cell_type": "markdown",
   "metadata": {},
   "source": [
    "#### Moyenne des lat/long des labels (donc du device émetteur)"
   ]
  },
  {
   "cell_type": "code",
   "execution_count": 60,
   "metadata": {
    "ExecuteTime": {
     "end_time": "2019-01-07T18:21:11.113250Z",
     "start_time": "2019-01-07T18:21:10.807095Z"
    }
   },
   "outputs": [],
   "source": [
    "# Groupby label\n",
    "pos_lat_grouped_train = df_grouped_train.mean()['pos_lat'].values\n",
    "pos_lng_grouped_train = df_grouped_train.mean()['pos_lng'].values"
   ]
  },
  {
   "cell_type": "markdown",
   "metadata": {},
   "source": [
    "### **2.4 Sélection de features**\n",
    "> On commmence par rassembler sous forme d'un dataframe le group by `messid` que nous avons fait. Nous choisissons ici de moyenner les différentes variables pour un même message."
   ]
  },
  {
   "cell_type": "code",
   "execution_count": 61,
   "metadata": {},
   "outputs": [],
   "source": [
    "# On crée notre dataframe d'entrainement avec les features qui nous intéressent\n",
    "df_train = pd.DataFrame()\n",
    "df_train[listNameBs] = df_bsid_grouped_train\n",
    "df_train[\"did\"] = df_grouped_train_did\n",
    "df_train['mean_rssi'] = rssi_grouped_train\n",
    "df_train['mean_lat'] = lat_grouped_train\n",
    "df_train['mean_lng'] = lng_grouped_train\n",
    "df_train['mean_lat_rssi'] = lat_rssi_grouped_train\n",
    "df_train['mean_lng_rssi'] = lng_rssi_grouped_train\n",
    "df_train['mean_time_ux'] = time_ux_grouped_train\n",
    "df_train['pos_lat'] = pos_lat_grouped_train\n",
    "df_train['pos_lng'] = pos_lng_grouped_train"
   ]
  },
  {
   "cell_type": "code",
   "execution_count": 62,
   "metadata": {},
   "outputs": [
    {
     "data": {
      "text/html": [
       "<div>\n",
       "<style scoped>\n",
       "    .dataframe tbody tr th:only-of-type {\n",
       "        vertical-align: middle;\n",
       "    }\n",
       "\n",
       "    .dataframe tbody tr th {\n",
       "        vertical-align: top;\n",
       "    }\n",
       "\n",
       "    .dataframe thead th {\n",
       "        text-align: right;\n",
       "    }\n",
       "</style>\n",
       "<table border=\"1\" class=\"dataframe\">\n",
       "  <thead>\n",
       "    <tr style=\"text-align: right;\">\n",
       "      <th></th>\n",
       "      <th>bs2841</th>\n",
       "      <th>bs3526</th>\n",
       "      <th>bs2605</th>\n",
       "      <th>bs2610</th>\n",
       "      <th>bs3574</th>\n",
       "      <th>bs8474</th>\n",
       "      <th>bs1859</th>\n",
       "      <th>bs3025</th>\n",
       "      <th>bs8082</th>\n",
       "      <th>bs1086</th>\n",
       "      <th>...</th>\n",
       "      <th>bs7248</th>\n",
       "      <th>did</th>\n",
       "      <th>mean_rssi</th>\n",
       "      <th>mean_lat</th>\n",
       "      <th>mean_lng</th>\n",
       "      <th>mean_lat_rssi</th>\n",
       "      <th>mean_lng_rssi</th>\n",
       "      <th>mean_time_ux</th>\n",
       "      <th>pos_lat</th>\n",
       "      <th>pos_lng</th>\n",
       "    </tr>\n",
       "    <tr>\n",
       "      <th>messid</th>\n",
       "      <th></th>\n",
       "      <th></th>\n",
       "      <th></th>\n",
       "      <th></th>\n",
       "      <th></th>\n",
       "      <th></th>\n",
       "      <th></th>\n",
       "      <th></th>\n",
       "      <th></th>\n",
       "      <th></th>\n",
       "      <th></th>\n",
       "      <th></th>\n",
       "      <th></th>\n",
       "      <th></th>\n",
       "      <th></th>\n",
       "      <th></th>\n",
       "      <th></th>\n",
       "      <th></th>\n",
       "      <th></th>\n",
       "      <th></th>\n",
       "      <th></th>\n",
       "    </tr>\n",
       "  </thead>\n",
       "  <tbody>\n",
       "    <tr>\n",
       "      <th>573bf1d9864fce1a9af8c5c9</th>\n",
       "      <td>0.0</td>\n",
       "      <td>0.0</td>\n",
       "      <td>0.0</td>\n",
       "      <td>0.0</td>\n",
       "      <td>0.0</td>\n",
       "      <td>0.0</td>\n",
       "      <td>0.0</td>\n",
       "      <td>0.0</td>\n",
       "      <td>0.0</td>\n",
       "      <td>0.0</td>\n",
       "      <td>...</td>\n",
       "      <td>0.0</td>\n",
       "      <td>473335.0</td>\n",
       "      <td>-123.250000</td>\n",
       "      <td>39.647522</td>\n",
       "      <td>-104.953819</td>\n",
       "      <td>39.647945</td>\n",
       "      <td>-104.953803</td>\n",
       "      <td>1.463546e+12</td>\n",
       "      <td>39.606690</td>\n",
       "      <td>-104.958490</td>\n",
       "    </tr>\n",
       "    <tr>\n",
       "      <th>573bf3533e952e19126b256a</th>\n",
       "      <td>0.0</td>\n",
       "      <td>0.0</td>\n",
       "      <td>0.0</td>\n",
       "      <td>0.0</td>\n",
       "      <td>0.0</td>\n",
       "      <td>0.0</td>\n",
       "      <td>0.0</td>\n",
       "      <td>0.0</td>\n",
       "      <td>0.0</td>\n",
       "      <td>0.0</td>\n",
       "      <td>...</td>\n",
       "      <td>0.0</td>\n",
       "      <td>473335.0</td>\n",
       "      <td>-134.000000</td>\n",
       "      <td>39.612745</td>\n",
       "      <td>-105.008827</td>\n",
       "      <td>39.612745</td>\n",
       "      <td>-105.008827</td>\n",
       "      <td>1.463547e+12</td>\n",
       "      <td>39.637741</td>\n",
       "      <td>-104.958554</td>\n",
       "    </tr>\n",
       "    <tr>\n",
       "      <th>573c0cd0f0fe6e735a699b93</th>\n",
       "      <td>0.0</td>\n",
       "      <td>0.0</td>\n",
       "      <td>0.0</td>\n",
       "      <td>0.0</td>\n",
       "      <td>0.0</td>\n",
       "      <td>0.0</td>\n",
       "      <td>0.0</td>\n",
       "      <td>0.0</td>\n",
       "      <td>0.0</td>\n",
       "      <td>0.0</td>\n",
       "      <td>...</td>\n",
       "      <td>0.0</td>\n",
       "      <td>473953.0</td>\n",
       "      <td>-117.333333</td>\n",
       "      <td>39.751055</td>\n",
       "      <td>-105.001109</td>\n",
       "      <td>39.753734</td>\n",
       "      <td>-105.005136</td>\n",
       "      <td>1.463553e+12</td>\n",
       "      <td>39.730417</td>\n",
       "      <td>-104.968940</td>\n",
       "    </tr>\n",
       "    <tr>\n",
       "      <th>573c1272f0fe6e735a6cb8bd</th>\n",
       "      <td>0.0</td>\n",
       "      <td>0.0</td>\n",
       "      <td>0.0</td>\n",
       "      <td>0.0</td>\n",
       "      <td>0.0</td>\n",
       "      <td>0.0</td>\n",
       "      <td>0.0</td>\n",
       "      <td>0.0</td>\n",
       "      <td>0.0</td>\n",
       "      <td>0.0</td>\n",
       "      <td>...</td>\n",
       "      <td>0.0</td>\n",
       "      <td>476512.0</td>\n",
       "      <td>-127.416667</td>\n",
       "      <td>39.616885</td>\n",
       "      <td>-105.030503</td>\n",
       "      <td>39.614550</td>\n",
       "      <td>-105.030671</td>\n",
       "      <td>1.463555e+12</td>\n",
       "      <td>39.693102</td>\n",
       "      <td>-105.006995</td>\n",
       "    </tr>\n",
       "    <tr>\n",
       "      <th>573c8ea8864fce1a9a5fbf7a</th>\n",
       "      <td>0.0</td>\n",
       "      <td>1.0</td>\n",
       "      <td>0.0</td>\n",
       "      <td>0.0</td>\n",
       "      <td>0.0</td>\n",
       "      <td>0.0</td>\n",
       "      <td>0.0</td>\n",
       "      <td>0.0</td>\n",
       "      <td>0.0</td>\n",
       "      <td>0.0</td>\n",
       "      <td>...</td>\n",
       "      <td>0.0</td>\n",
       "      <td>476286.0</td>\n",
       "      <td>-125.996032</td>\n",
       "      <td>39.778865</td>\n",
       "      <td>-105.033121</td>\n",
       "      <td>39.779871</td>\n",
       "      <td>-105.033005</td>\n",
       "      <td>1.463586e+12</td>\n",
       "      <td>39.758167</td>\n",
       "      <td>-105.051016</td>\n",
       "    </tr>\n",
       "    <tr>\n",
       "      <th>...</th>\n",
       "      <td>...</td>\n",
       "      <td>...</td>\n",
       "      <td>...</td>\n",
       "      <td>...</td>\n",
       "      <td>...</td>\n",
       "      <td>...</td>\n",
       "      <td>...</td>\n",
       "      <td>...</td>\n",
       "      <td>...</td>\n",
       "      <td>...</td>\n",
       "      <td>...</td>\n",
       "      <td>...</td>\n",
       "      <td>...</td>\n",
       "      <td>...</td>\n",
       "      <td>...</td>\n",
       "      <td>...</td>\n",
       "      <td>...</td>\n",
       "      <td>...</td>\n",
       "      <td>...</td>\n",
       "      <td>...</td>\n",
       "      <td>...</td>\n",
       "    </tr>\n",
       "    <tr>\n",
       "      <th>5848551912f14360d786ede6</th>\n",
       "      <td>0.0</td>\n",
       "      <td>0.0</td>\n",
       "      <td>0.0</td>\n",
       "      <td>0.0</td>\n",
       "      <td>0.0</td>\n",
       "      <td>0.0</td>\n",
       "      <td>0.0</td>\n",
       "      <td>0.0</td>\n",
       "      <td>0.0</td>\n",
       "      <td>0.0</td>\n",
       "      <td>...</td>\n",
       "      <td>0.0</td>\n",
       "      <td>476207.0</td>\n",
       "      <td>-125.250000</td>\n",
       "      <td>39.766508</td>\n",
       "      <td>-104.997346</td>\n",
       "      <td>39.766546</td>\n",
       "      <td>-104.996990</td>\n",
       "      <td>1.481135e+12</td>\n",
       "      <td>39.764915</td>\n",
       "      <td>-105.003985</td>\n",
       "    </tr>\n",
       "    <tr>\n",
       "      <th>58485a25e541cd0e1329b8d6</th>\n",
       "      <td>0.0</td>\n",
       "      <td>0.0</td>\n",
       "      <td>0.0</td>\n",
       "      <td>0.0</td>\n",
       "      <td>0.0</td>\n",
       "      <td>0.0</td>\n",
       "      <td>0.0</td>\n",
       "      <td>0.0</td>\n",
       "      <td>0.0</td>\n",
       "      <td>0.0</td>\n",
       "      <td>...</td>\n",
       "      <td>0.0</td>\n",
       "      <td>476512.0</td>\n",
       "      <td>-129.566667</td>\n",
       "      <td>39.678859</td>\n",
       "      <td>-105.024327</td>\n",
       "      <td>39.679685</td>\n",
       "      <td>-105.025102</td>\n",
       "      <td>1.481137e+12</td>\n",
       "      <td>39.658804</td>\n",
       "      <td>-105.008299</td>\n",
       "    </tr>\n",
       "    <tr>\n",
       "      <th>58485bd412f14360d78bebdb</th>\n",
       "      <td>0.0</td>\n",
       "      <td>0.0</td>\n",
       "      <td>0.0</td>\n",
       "      <td>0.0</td>\n",
       "      <td>0.0</td>\n",
       "      <td>0.0</td>\n",
       "      <td>0.0</td>\n",
       "      <td>0.0</td>\n",
       "      <td>0.0</td>\n",
       "      <td>0.0</td>\n",
       "      <td>...</td>\n",
       "      <td>0.0</td>\n",
       "      <td>476207.0</td>\n",
       "      <td>-131.266667</td>\n",
       "      <td>39.780396</td>\n",
       "      <td>-105.022235</td>\n",
       "      <td>39.779881</td>\n",
       "      <td>-105.023202</td>\n",
       "      <td>1.481137e+12</td>\n",
       "      <td>39.778872</td>\n",
       "      <td>-105.019285</td>\n",
       "    </tr>\n",
       "    <tr>\n",
       "      <th>5848672e12f14360d7942374</th>\n",
       "      <td>0.0</td>\n",
       "      <td>0.0</td>\n",
       "      <td>0.0</td>\n",
       "      <td>0.0</td>\n",
       "      <td>0.0</td>\n",
       "      <td>0.0</td>\n",
       "      <td>0.0</td>\n",
       "      <td>0.0</td>\n",
       "      <td>0.0</td>\n",
       "      <td>0.0</td>\n",
       "      <td>...</td>\n",
       "      <td>0.0</td>\n",
       "      <td>476257.0</td>\n",
       "      <td>-126.000000</td>\n",
       "      <td>39.750901</td>\n",
       "      <td>-105.011496</td>\n",
       "      <td>39.750627</td>\n",
       "      <td>-105.011348</td>\n",
       "      <td>1.481140e+12</td>\n",
       "      <td>39.773264</td>\n",
       "      <td>-105.014052</td>\n",
       "    </tr>\n",
       "    <tr>\n",
       "      <th>58487473e541cd0e133cca72</th>\n",
       "      <td>0.0</td>\n",
       "      <td>0.0</td>\n",
       "      <td>0.0</td>\n",
       "      <td>0.0</td>\n",
       "      <td>0.0</td>\n",
       "      <td>0.0</td>\n",
       "      <td>0.0</td>\n",
       "      <td>0.0</td>\n",
       "      <td>0.0</td>\n",
       "      <td>0.0</td>\n",
       "      <td>...</td>\n",
       "      <td>0.0</td>\n",
       "      <td>476593.0</td>\n",
       "      <td>-133.166667</td>\n",
       "      <td>39.913654</td>\n",
       "      <td>-105.163275</td>\n",
       "      <td>39.913858</td>\n",
       "      <td>-105.163405</td>\n",
       "      <td>1.481143e+12</td>\n",
       "      <td>39.908186</td>\n",
       "      <td>-105.168297</td>\n",
       "    </tr>\n",
       "  </tbody>\n",
       "</table>\n",
       "<p>5820 rows × 187 columns</p>\n",
       "</div>"
      ],
      "text/plain": [
       "                          bs2841  bs3526  bs2605  bs2610  bs3574  bs8474  \\\n",
       "messid                                                                     \n",
       "573bf1d9864fce1a9af8c5c9     0.0     0.0     0.0     0.0     0.0     0.0   \n",
       "573bf3533e952e19126b256a     0.0     0.0     0.0     0.0     0.0     0.0   \n",
       "573c0cd0f0fe6e735a699b93     0.0     0.0     0.0     0.0     0.0     0.0   \n",
       "573c1272f0fe6e735a6cb8bd     0.0     0.0     0.0     0.0     0.0     0.0   \n",
       "573c8ea8864fce1a9a5fbf7a     0.0     1.0     0.0     0.0     0.0     0.0   \n",
       "...                          ...     ...     ...     ...     ...     ...   \n",
       "5848551912f14360d786ede6     0.0     0.0     0.0     0.0     0.0     0.0   \n",
       "58485a25e541cd0e1329b8d6     0.0     0.0     0.0     0.0     0.0     0.0   \n",
       "58485bd412f14360d78bebdb     0.0     0.0     0.0     0.0     0.0     0.0   \n",
       "5848672e12f14360d7942374     0.0     0.0     0.0     0.0     0.0     0.0   \n",
       "58487473e541cd0e133cca72     0.0     0.0     0.0     0.0     0.0     0.0   \n",
       "\n",
       "                          bs1859  bs3025  bs8082  bs1086  ...  bs7248  \\\n",
       "messid                                                    ...           \n",
       "573bf1d9864fce1a9af8c5c9     0.0     0.0     0.0     0.0  ...     0.0   \n",
       "573bf3533e952e19126b256a     0.0     0.0     0.0     0.0  ...     0.0   \n",
       "573c0cd0f0fe6e735a699b93     0.0     0.0     0.0     0.0  ...     0.0   \n",
       "573c1272f0fe6e735a6cb8bd     0.0     0.0     0.0     0.0  ...     0.0   \n",
       "573c8ea8864fce1a9a5fbf7a     0.0     0.0     0.0     0.0  ...     0.0   \n",
       "...                          ...     ...     ...     ...  ...     ...   \n",
       "5848551912f14360d786ede6     0.0     0.0     0.0     0.0  ...     0.0   \n",
       "58485a25e541cd0e1329b8d6     0.0     0.0     0.0     0.0  ...     0.0   \n",
       "58485bd412f14360d78bebdb     0.0     0.0     0.0     0.0  ...     0.0   \n",
       "5848672e12f14360d7942374     0.0     0.0     0.0     0.0  ...     0.0   \n",
       "58487473e541cd0e133cca72     0.0     0.0     0.0     0.0  ...     0.0   \n",
       "\n",
       "                               did   mean_rssi   mean_lat    mean_lng  \\\n",
       "messid                                                                  \n",
       "573bf1d9864fce1a9af8c5c9  473335.0 -123.250000  39.647522 -104.953819   \n",
       "573bf3533e952e19126b256a  473335.0 -134.000000  39.612745 -105.008827   \n",
       "573c0cd0f0fe6e735a699b93  473953.0 -117.333333  39.751055 -105.001109   \n",
       "573c1272f0fe6e735a6cb8bd  476512.0 -127.416667  39.616885 -105.030503   \n",
       "573c8ea8864fce1a9a5fbf7a  476286.0 -125.996032  39.778865 -105.033121   \n",
       "...                            ...         ...        ...         ...   \n",
       "5848551912f14360d786ede6  476207.0 -125.250000  39.766508 -104.997346   \n",
       "58485a25e541cd0e1329b8d6  476512.0 -129.566667  39.678859 -105.024327   \n",
       "58485bd412f14360d78bebdb  476207.0 -131.266667  39.780396 -105.022235   \n",
       "5848672e12f14360d7942374  476257.0 -126.000000  39.750901 -105.011496   \n",
       "58487473e541cd0e133cca72  476593.0 -133.166667  39.913654 -105.163275   \n",
       "\n",
       "                          mean_lat_rssi  mean_lng_rssi  mean_time_ux  \\\n",
       "messid                                                                 \n",
       "573bf1d9864fce1a9af8c5c9      39.647945    -104.953803  1.463546e+12   \n",
       "573bf3533e952e19126b256a      39.612745    -105.008827  1.463547e+12   \n",
       "573c0cd0f0fe6e735a699b93      39.753734    -105.005136  1.463553e+12   \n",
       "573c1272f0fe6e735a6cb8bd      39.614550    -105.030671  1.463555e+12   \n",
       "573c8ea8864fce1a9a5fbf7a      39.779871    -105.033005  1.463586e+12   \n",
       "...                                 ...            ...           ...   \n",
       "5848551912f14360d786ede6      39.766546    -104.996990  1.481135e+12   \n",
       "58485a25e541cd0e1329b8d6      39.679685    -105.025102  1.481137e+12   \n",
       "58485bd412f14360d78bebdb      39.779881    -105.023202  1.481137e+12   \n",
       "5848672e12f14360d7942374      39.750627    -105.011348  1.481140e+12   \n",
       "58487473e541cd0e133cca72      39.913858    -105.163405  1.481143e+12   \n",
       "\n",
       "                            pos_lat     pos_lng  \n",
       "messid                                           \n",
       "573bf1d9864fce1a9af8c5c9  39.606690 -104.958490  \n",
       "573bf3533e952e19126b256a  39.637741 -104.958554  \n",
       "573c0cd0f0fe6e735a699b93  39.730417 -104.968940  \n",
       "573c1272f0fe6e735a6cb8bd  39.693102 -105.006995  \n",
       "573c8ea8864fce1a9a5fbf7a  39.758167 -105.051016  \n",
       "...                             ...         ...  \n",
       "5848551912f14360d786ede6  39.764915 -105.003985  \n",
       "58485a25e541cd0e1329b8d6  39.658804 -105.008299  \n",
       "58485bd412f14360d78bebdb  39.778872 -105.019285  \n",
       "5848672e12f14360d7942374  39.773264 -105.014052  \n",
       "58487473e541cd0e133cca72  39.908186 -105.168297  \n",
       "\n",
       "[5820 rows x 187 columns]"
      ]
     },
     "execution_count": 62,
     "metadata": {},
     "output_type": "execute_result"
    }
   ],
   "source": [
    "df_train"
   ]
  },
  {
   "cell_type": "markdown",
   "metadata": {},
   "source": [
    "> On procède de même pour la partie test."
   ]
  },
  {
   "cell_type": "code",
   "execution_count": 63,
   "metadata": {},
   "outputs": [],
   "source": [
    "# On crée notre dataframe de test avec les features qui nous intéressent\n",
    "df_test = pd.DataFrame()\n",
    "df_test[listNameBs] = df_bsid_grouped_test\n",
    "df_test[\"did\"] = df_grouped_test_did\n",
    "df_test['mean_rssi'] = rssi_grouped_test\n",
    "df_test['mean_lat'] = lat_grouped_test\n",
    "df_test['mean_lng'] = lng_grouped_test\n",
    "df_test['mean_lat_rssi'] = lat_rssi_grouped_test\n",
    "df_test['mean_lng_rssi'] = lng_rssi_grouped_test\n",
    "df_test['mean_time_ux'] = time_ux_grouped_test"
   ]
  },
  {
   "cell_type": "code",
   "execution_count": 64,
   "metadata": {},
   "outputs": [
    {
     "data": {
      "text/html": [
       "<div>\n",
       "<style scoped>\n",
       "    .dataframe tbody tr th:only-of-type {\n",
       "        vertical-align: middle;\n",
       "    }\n",
       "\n",
       "    .dataframe tbody tr th {\n",
       "        vertical-align: top;\n",
       "    }\n",
       "\n",
       "    .dataframe thead th {\n",
       "        text-align: right;\n",
       "    }\n",
       "</style>\n",
       "<table border=\"1\" class=\"dataframe\">\n",
       "  <thead>\n",
       "    <tr style=\"text-align: right;\">\n",
       "      <th></th>\n",
       "      <th>bs2841</th>\n",
       "      <th>bs3526</th>\n",
       "      <th>bs2605</th>\n",
       "      <th>bs2610</th>\n",
       "      <th>bs3574</th>\n",
       "      <th>bs8474</th>\n",
       "      <th>bs1859</th>\n",
       "      <th>bs3025</th>\n",
       "      <th>bs8082</th>\n",
       "      <th>bs1086</th>\n",
       "      <th>...</th>\n",
       "      <th>bs1092</th>\n",
       "      <th>bs1854</th>\n",
       "      <th>bs7248</th>\n",
       "      <th>did</th>\n",
       "      <th>mean_rssi</th>\n",
       "      <th>mean_lat</th>\n",
       "      <th>mean_lng</th>\n",
       "      <th>mean_lat_rssi</th>\n",
       "      <th>mean_lng_rssi</th>\n",
       "      <th>mean_time_ux</th>\n",
       "    </tr>\n",
       "    <tr>\n",
       "      <th>messid</th>\n",
       "      <th></th>\n",
       "      <th></th>\n",
       "      <th></th>\n",
       "      <th></th>\n",
       "      <th></th>\n",
       "      <th></th>\n",
       "      <th></th>\n",
       "      <th></th>\n",
       "      <th></th>\n",
       "      <th></th>\n",
       "      <th></th>\n",
       "      <th></th>\n",
       "      <th></th>\n",
       "      <th></th>\n",
       "      <th></th>\n",
       "      <th></th>\n",
       "      <th></th>\n",
       "      <th></th>\n",
       "      <th></th>\n",
       "      <th></th>\n",
       "      <th></th>\n",
       "    </tr>\n",
       "  </thead>\n",
       "  <tbody>\n",
       "    <tr>\n",
       "      <th>573be2503e952e191262c351</th>\n",
       "      <td>0.0</td>\n",
       "      <td>0.0</td>\n",
       "      <td>0.0</td>\n",
       "      <td>0.0</td>\n",
       "      <td>0.0</td>\n",
       "      <td>0.0</td>\n",
       "      <td>0.0</td>\n",
       "      <td>0.0</td>\n",
       "      <td>0.0</td>\n",
       "      <td>0.0</td>\n",
       "      <td>...</td>\n",
       "      <td>0.0</td>\n",
       "      <td>0.0</td>\n",
       "      <td>0.0</td>\n",
       "      <td>116539.0</td>\n",
       "      <td>-111.000000</td>\n",
       "      <td>39.728651</td>\n",
       "      <td>-105.163032</td>\n",
       "      <td>39.728651</td>\n",
       "      <td>-105.163032</td>\n",
       "      <td>1.463542e+12</td>\n",
       "    </tr>\n",
       "    <tr>\n",
       "      <th>573c05f83e952e1912758013</th>\n",
       "      <td>0.0</td>\n",
       "      <td>0.0</td>\n",
       "      <td>0.0</td>\n",
       "      <td>0.0</td>\n",
       "      <td>0.0</td>\n",
       "      <td>0.0</td>\n",
       "      <td>0.0</td>\n",
       "      <td>0.0</td>\n",
       "      <td>0.0</td>\n",
       "      <td>0.0</td>\n",
       "      <td>...</td>\n",
       "      <td>0.0</td>\n",
       "      <td>0.0</td>\n",
       "      <td>0.0</td>\n",
       "      <td>472504.0</td>\n",
       "      <td>-126.125000</td>\n",
       "      <td>39.763474</td>\n",
       "      <td>-105.094321</td>\n",
       "      <td>39.762881</td>\n",
       "      <td>-105.094231</td>\n",
       "      <td>1.463551e+12</td>\n",
       "    </tr>\n",
       "    <tr>\n",
       "      <th>573c0796f0fe6e735a66deb3</th>\n",
       "      <td>0.0</td>\n",
       "      <td>0.0</td>\n",
       "      <td>0.0</td>\n",
       "      <td>0.0</td>\n",
       "      <td>0.0</td>\n",
       "      <td>0.0</td>\n",
       "      <td>0.0</td>\n",
       "      <td>0.0</td>\n",
       "      <td>0.0</td>\n",
       "      <td>0.0</td>\n",
       "      <td>...</td>\n",
       "      <td>0.0</td>\n",
       "      <td>0.0</td>\n",
       "      <td>0.0</td>\n",
       "      <td>472397.0</td>\n",
       "      <td>-128.250000</td>\n",
       "      <td>39.666322</td>\n",
       "      <td>-105.028319</td>\n",
       "      <td>39.666015</td>\n",
       "      <td>-105.027857</td>\n",
       "      <td>1.463552e+12</td>\n",
       "    </tr>\n",
       "    <tr>\n",
       "      <th>573c08d2864fce1a9a0563bc</th>\n",
       "      <td>0.0</td>\n",
       "      <td>0.0</td>\n",
       "      <td>0.0</td>\n",
       "      <td>0.0</td>\n",
       "      <td>0.0</td>\n",
       "      <td>0.0</td>\n",
       "      <td>0.0</td>\n",
       "      <td>0.0</td>\n",
       "      <td>0.0</td>\n",
       "      <td>0.0</td>\n",
       "      <td>...</td>\n",
       "      <td>0.0</td>\n",
       "      <td>0.0</td>\n",
       "      <td>0.0</td>\n",
       "      <td>472504.0</td>\n",
       "      <td>-113.000000</td>\n",
       "      <td>39.782113</td>\n",
       "      <td>-105.072701</td>\n",
       "      <td>39.782113</td>\n",
       "      <td>-105.072701</td>\n",
       "      <td>1.463552e+12</td>\n",
       "    </tr>\n",
       "    <tr>\n",
       "      <th>573c08ff864fce1a9a0579b0</th>\n",
       "      <td>0.0</td>\n",
       "      <td>0.0</td>\n",
       "      <td>0.0</td>\n",
       "      <td>0.0</td>\n",
       "      <td>0.0</td>\n",
       "      <td>0.0</td>\n",
       "      <td>0.0</td>\n",
       "      <td>0.0</td>\n",
       "      <td>0.0</td>\n",
       "      <td>0.0</td>\n",
       "      <td>...</td>\n",
       "      <td>0.0</td>\n",
       "      <td>0.0</td>\n",
       "      <td>0.0</td>\n",
       "      <td>472397.0</td>\n",
       "      <td>-129.208333</td>\n",
       "      <td>39.666322</td>\n",
       "      <td>-105.028319</td>\n",
       "      <td>39.666213</td>\n",
       "      <td>-105.027939</td>\n",
       "      <td>1.463552e+12</td>\n",
       "    </tr>\n",
       "    <tr>\n",
       "      <th>...</th>\n",
       "      <td>...</td>\n",
       "      <td>...</td>\n",
       "      <td>...</td>\n",
       "      <td>...</td>\n",
       "      <td>...</td>\n",
       "      <td>...</td>\n",
       "      <td>...</td>\n",
       "      <td>...</td>\n",
       "      <td>...</td>\n",
       "      <td>...</td>\n",
       "      <td>...</td>\n",
       "      <td>...</td>\n",
       "      <td>...</td>\n",
       "      <td>...</td>\n",
       "      <td>...</td>\n",
       "      <td>...</td>\n",
       "      <td>...</td>\n",
       "      <td>...</td>\n",
       "      <td>...</td>\n",
       "      <td>...</td>\n",
       "      <td>...</td>\n",
       "    </tr>\n",
       "    <tr>\n",
       "      <th>58484ca812f14360d7808eb0</th>\n",
       "      <td>0.0</td>\n",
       "      <td>0.0</td>\n",
       "      <td>0.0</td>\n",
       "      <td>0.0</td>\n",
       "      <td>0.0</td>\n",
       "      <td>0.0</td>\n",
       "      <td>0.0</td>\n",
       "      <td>0.0</td>\n",
       "      <td>0.0</td>\n",
       "      <td>0.0</td>\n",
       "      <td>...</td>\n",
       "      <td>0.0</td>\n",
       "      <td>0.0</td>\n",
       "      <td>0.0</td>\n",
       "      <td>116527.0</td>\n",
       "      <td>-128.916667</td>\n",
       "      <td>45.885533</td>\n",
       "      <td>-95.847700</td>\n",
       "      <td>45.889657</td>\n",
       "      <td>-95.841546</td>\n",
       "      <td>1.481133e+12</td>\n",
       "    </tr>\n",
       "    <tr>\n",
       "      <th>58484cb6e541cd0e131f862c</th>\n",
       "      <td>0.0</td>\n",
       "      <td>0.0</td>\n",
       "      <td>0.0</td>\n",
       "      <td>0.0</td>\n",
       "      <td>0.0</td>\n",
       "      <td>0.0</td>\n",
       "      <td>0.0</td>\n",
       "      <td>0.0</td>\n",
       "      <td>0.0</td>\n",
       "      <td>0.0</td>\n",
       "      <td>...</td>\n",
       "      <td>0.0</td>\n",
       "      <td>1.0</td>\n",
       "      <td>1.0</td>\n",
       "      <td>472504.0</td>\n",
       "      <td>-126.857143</td>\n",
       "      <td>46.784308</td>\n",
       "      <td>-94.587609</td>\n",
       "      <td>46.727807</td>\n",
       "      <td>-94.671491</td>\n",
       "      <td>1.481133e+12</td>\n",
       "    </tr>\n",
       "    <tr>\n",
       "      <th>58484dc9cf554f422f94665b</th>\n",
       "      <td>0.0</td>\n",
       "      <td>0.0</td>\n",
       "      <td>0.0</td>\n",
       "      <td>0.0</td>\n",
       "      <td>0.0</td>\n",
       "      <td>0.0</td>\n",
       "      <td>0.0</td>\n",
       "      <td>0.0</td>\n",
       "      <td>0.0</td>\n",
       "      <td>0.0</td>\n",
       "      <td>...</td>\n",
       "      <td>0.0</td>\n",
       "      <td>0.0</td>\n",
       "      <td>0.0</td>\n",
       "      <td>472397.0</td>\n",
       "      <td>-128.708333</td>\n",
       "      <td>39.656647</td>\n",
       "      <td>-105.043603</td>\n",
       "      <td>39.656143</td>\n",
       "      <td>-105.043241</td>\n",
       "      <td>1.481134e+12</td>\n",
       "    </tr>\n",
       "    <tr>\n",
       "      <th>58485da512f14360d78d5378</th>\n",
       "      <td>0.0</td>\n",
       "      <td>0.0</td>\n",
       "      <td>0.0</td>\n",
       "      <td>0.0</td>\n",
       "      <td>0.0</td>\n",
       "      <td>0.0</td>\n",
       "      <td>0.0</td>\n",
       "      <td>0.0</td>\n",
       "      <td>0.0</td>\n",
       "      <td>0.0</td>\n",
       "      <td>...</td>\n",
       "      <td>0.0</td>\n",
       "      <td>0.0</td>\n",
       "      <td>0.0</td>\n",
       "      <td>472397.0</td>\n",
       "      <td>-123.916667</td>\n",
       "      <td>39.660435</td>\n",
       "      <td>-105.060608</td>\n",
       "      <td>39.660740</td>\n",
       "      <td>-105.061507</td>\n",
       "      <td>1.481138e+12</td>\n",
       "    </tr>\n",
       "    <tr>\n",
       "      <th>58486d71e541cd0e1337e073</th>\n",
       "      <td>0.0</td>\n",
       "      <td>0.0</td>\n",
       "      <td>0.0</td>\n",
       "      <td>0.0</td>\n",
       "      <td>0.0</td>\n",
       "      <td>0.0</td>\n",
       "      <td>0.0</td>\n",
       "      <td>0.0</td>\n",
       "      <td>0.0</td>\n",
       "      <td>0.0</td>\n",
       "      <td>...</td>\n",
       "      <td>0.0</td>\n",
       "      <td>0.0</td>\n",
       "      <td>0.0</td>\n",
       "      <td>472397.0</td>\n",
       "      <td>-131.444444</td>\n",
       "      <td>39.644538</td>\n",
       "      <td>-105.043347</td>\n",
       "      <td>39.643983</td>\n",
       "      <td>-105.042961</td>\n",
       "      <td>1.481142e+12</td>\n",
       "    </tr>\n",
       "  </tbody>\n",
       "</table>\n",
       "<p>5294 rows × 185 columns</p>\n",
       "</div>"
      ],
      "text/plain": [
       "                          bs2841  bs3526  bs2605  bs2610  bs3574  bs8474  \\\n",
       "messid                                                                     \n",
       "573be2503e952e191262c351     0.0     0.0     0.0     0.0     0.0     0.0   \n",
       "573c05f83e952e1912758013     0.0     0.0     0.0     0.0     0.0     0.0   \n",
       "573c0796f0fe6e735a66deb3     0.0     0.0     0.0     0.0     0.0     0.0   \n",
       "573c08d2864fce1a9a0563bc     0.0     0.0     0.0     0.0     0.0     0.0   \n",
       "573c08ff864fce1a9a0579b0     0.0     0.0     0.0     0.0     0.0     0.0   \n",
       "...                          ...     ...     ...     ...     ...     ...   \n",
       "58484ca812f14360d7808eb0     0.0     0.0     0.0     0.0     0.0     0.0   \n",
       "58484cb6e541cd0e131f862c     0.0     0.0     0.0     0.0     0.0     0.0   \n",
       "58484dc9cf554f422f94665b     0.0     0.0     0.0     0.0     0.0     0.0   \n",
       "58485da512f14360d78d5378     0.0     0.0     0.0     0.0     0.0     0.0   \n",
       "58486d71e541cd0e1337e073     0.0     0.0     0.0     0.0     0.0     0.0   \n",
       "\n",
       "                          bs1859  bs3025  bs8082  bs1086  ...  bs1092  bs1854  \\\n",
       "messid                                                    ...                   \n",
       "573be2503e952e191262c351     0.0     0.0     0.0     0.0  ...     0.0     0.0   \n",
       "573c05f83e952e1912758013     0.0     0.0     0.0     0.0  ...     0.0     0.0   \n",
       "573c0796f0fe6e735a66deb3     0.0     0.0     0.0     0.0  ...     0.0     0.0   \n",
       "573c08d2864fce1a9a0563bc     0.0     0.0     0.0     0.0  ...     0.0     0.0   \n",
       "573c08ff864fce1a9a0579b0     0.0     0.0     0.0     0.0  ...     0.0     0.0   \n",
       "...                          ...     ...     ...     ...  ...     ...     ...   \n",
       "58484ca812f14360d7808eb0     0.0     0.0     0.0     0.0  ...     0.0     0.0   \n",
       "58484cb6e541cd0e131f862c     0.0     0.0     0.0     0.0  ...     0.0     1.0   \n",
       "58484dc9cf554f422f94665b     0.0     0.0     0.0     0.0  ...     0.0     0.0   \n",
       "58485da512f14360d78d5378     0.0     0.0     0.0     0.0  ...     0.0     0.0   \n",
       "58486d71e541cd0e1337e073     0.0     0.0     0.0     0.0  ...     0.0     0.0   \n",
       "\n",
       "                          bs7248       did   mean_rssi   mean_lat    mean_lng  \\\n",
       "messid                                                                          \n",
       "573be2503e952e191262c351     0.0  116539.0 -111.000000  39.728651 -105.163032   \n",
       "573c05f83e952e1912758013     0.0  472504.0 -126.125000  39.763474 -105.094321   \n",
       "573c0796f0fe6e735a66deb3     0.0  472397.0 -128.250000  39.666322 -105.028319   \n",
       "573c08d2864fce1a9a0563bc     0.0  472504.0 -113.000000  39.782113 -105.072701   \n",
       "573c08ff864fce1a9a0579b0     0.0  472397.0 -129.208333  39.666322 -105.028319   \n",
       "...                          ...       ...         ...        ...         ...   \n",
       "58484ca812f14360d7808eb0     0.0  116527.0 -128.916667  45.885533  -95.847700   \n",
       "58484cb6e541cd0e131f862c     1.0  472504.0 -126.857143  46.784308  -94.587609   \n",
       "58484dc9cf554f422f94665b     0.0  472397.0 -128.708333  39.656647 -105.043603   \n",
       "58485da512f14360d78d5378     0.0  472397.0 -123.916667  39.660435 -105.060608   \n",
       "58486d71e541cd0e1337e073     0.0  472397.0 -131.444444  39.644538 -105.043347   \n",
       "\n",
       "                          mean_lat_rssi  mean_lng_rssi  mean_time_ux  \n",
       "messid                                                                \n",
       "573be2503e952e191262c351      39.728651    -105.163032  1.463542e+12  \n",
       "573c05f83e952e1912758013      39.762881    -105.094231  1.463551e+12  \n",
       "573c0796f0fe6e735a66deb3      39.666015    -105.027857  1.463552e+12  \n",
       "573c08d2864fce1a9a0563bc      39.782113    -105.072701  1.463552e+12  \n",
       "573c08ff864fce1a9a0579b0      39.666213    -105.027939  1.463552e+12  \n",
       "...                                 ...            ...           ...  \n",
       "58484ca812f14360d7808eb0      45.889657     -95.841546  1.481133e+12  \n",
       "58484cb6e541cd0e131f862c      46.727807     -94.671491  1.481133e+12  \n",
       "58484dc9cf554f422f94665b      39.656143    -105.043241  1.481134e+12  \n",
       "58485da512f14360d78d5378      39.660740    -105.061507  1.481138e+12  \n",
       "58486d71e541cd0e1337e073      39.643983    -105.042961  1.481142e+12  \n",
       "\n",
       "[5294 rows x 185 columns]"
      ]
     },
     "execution_count": 64,
     "metadata": {},
     "output_type": "execute_result"
    }
   ],
   "source": [
    "df_test"
   ]
  },
  {
   "cell_type": "markdown",
   "metadata": {},
   "source": [
    "> On peut maintenant regarder quelles sont les features qui ont le plus d'importance sur un modèle `RandomForestRegressor`. Cela nous permettra d'affiner la sélection de nos variables et d'améliorer les performances d'entraînement de notre modèle."
   ]
  },
  {
   "cell_type": "code",
   "execution_count": 65,
   "metadata": {},
   "outputs": [],
   "source": [
    "X_train = df_train.iloc[:,:-2]\n",
    "y_lat_train = df_train['pos_lat']\n",
    "y_lng_train = df_train['pos_lng']\n",
    "\n",
    "X_test = df_test"
   ]
  },
  {
   "cell_type": "code",
   "execution_count": 66,
   "metadata": {},
   "outputs": [
    {
     "data": {
      "text/plain": [
       "RandomForestRegressor(bootstrap=True, criterion='mse', max_depth=None,\n",
       "                      max_features='auto', max_leaf_nodes=None,\n",
       "                      min_impurity_decrease=0.0, min_impurity_split=None,\n",
       "                      min_samples_leaf=1, min_samples_split=2,\n",
       "                      min_weight_fraction_leaf=0.0, n_estimators=100, n_jobs=-1,\n",
       "                      oob_score=False, random_state=42, verbose=0,\n",
       "                      warm_start=False)"
      ]
     },
     "execution_count": 66,
     "metadata": {},
     "output_type": "execute_result"
    }
   ],
   "source": [
    "# Mise en place du RandomForest\n",
    "clf_lat = RandomForestRegressor(n_estimators=100, n_jobs=-1, random_state=42)\n",
    "clf_lat.fit(X_train, y_lat_train)\n",
    "\n",
    "clf_lng = RandomForestRegressor(n_estimators=100, n_jobs=-1, random_state=42)\n",
    "clf_lng.fit(X_train, y_lng_train)"
   ]
  },
  {
   "cell_type": "code",
   "execution_count": 67,
   "metadata": {},
   "outputs": [],
   "source": [
    "# Calcul de l'importance des features pour la latitude et la longitude\n",
    "dict_feature_importance_lat = {'feature': X_train.columns.values, \n",
    "                               'importance': clf_lat.feature_importances_}\n",
    "feature_importances_lat = pd.DataFrame(data=dict_feature_importance_lat).sort_values('importance', ascending=False)\n",
    "\n",
    "dict_feature_importance_lng = {'feature': X_train.columns.values, \n",
    "                               'importance': clf_lng.feature_importances_}\n",
    "feature_importances_lng = pd.DataFrame(data=dict_feature_importance_lng).sort_values('importance', ascending=False)"
   ]
  },
  {
   "cell_type": "code",
   "execution_count": 68,
   "metadata": {},
   "outputs": [
    {
     "data": {
      "text/html": [
       "<div>\n",
       "<style scoped>\n",
       "    .dataframe tbody tr th:only-of-type {\n",
       "        vertical-align: middle;\n",
       "    }\n",
       "\n",
       "    .dataframe tbody tr th {\n",
       "        vertical-align: top;\n",
       "    }\n",
       "\n",
       "    .dataframe thead th {\n",
       "        text-align: right;\n",
       "    }\n",
       "</style>\n",
       "<table border=\"1\" class=\"dataframe\">\n",
       "  <thead>\n",
       "    <tr style=\"text-align: right;\">\n",
       "      <th></th>\n",
       "      <th>feature</th>\n",
       "      <th>importance</th>\n",
       "    </tr>\n",
       "  </thead>\n",
       "  <tbody>\n",
       "    <tr>\n",
       "      <th>181</th>\n",
       "      <td>mean_lng</td>\n",
       "      <td>0.449020</td>\n",
       "    </tr>\n",
       "    <tr>\n",
       "      <th>183</th>\n",
       "      <td>mean_lng_rssi</td>\n",
       "      <td>0.448252</td>\n",
       "    </tr>\n",
       "    <tr>\n",
       "      <th>180</th>\n",
       "      <td>mean_lat</td>\n",
       "      <td>0.083784</td>\n",
       "    </tr>\n",
       "    <tr>\n",
       "      <th>182</th>\n",
       "      <td>mean_lat_rssi</td>\n",
       "      <td>0.008938</td>\n",
       "    </tr>\n",
       "    <tr>\n",
       "      <th>178</th>\n",
       "      <td>did</td>\n",
       "      <td>0.002051</td>\n",
       "    </tr>\n",
       "    <tr>\n",
       "      <th>...</th>\n",
       "      <td>...</td>\n",
       "      <td>...</td>\n",
       "    </tr>\n",
       "    <tr>\n",
       "      <th>146</th>\n",
       "      <td>bs1594</td>\n",
       "      <td>0.000000</td>\n",
       "    </tr>\n",
       "    <tr>\n",
       "      <th>147</th>\n",
       "      <td>bs10151</td>\n",
       "      <td>0.000000</td>\n",
       "    </tr>\n",
       "    <tr>\n",
       "      <th>16</th>\n",
       "      <td>bs2617</td>\n",
       "      <td>0.000000</td>\n",
       "    </tr>\n",
       "    <tr>\n",
       "      <th>15</th>\n",
       "      <td>bs2189</td>\n",
       "      <td>0.000000</td>\n",
       "    </tr>\n",
       "    <tr>\n",
       "      <th>114</th>\n",
       "      <td>bs8450</td>\n",
       "      <td>0.000000</td>\n",
       "    </tr>\n",
       "  </tbody>\n",
       "</table>\n",
       "<p>185 rows × 2 columns</p>\n",
       "</div>"
      ],
      "text/plain": [
       "           feature  importance\n",
       "181       mean_lng    0.449020\n",
       "183  mean_lng_rssi    0.448252\n",
       "180       mean_lat    0.083784\n",
       "182  mean_lat_rssi    0.008938\n",
       "178            did    0.002051\n",
       "..             ...         ...\n",
       "146         bs1594    0.000000\n",
       "147        bs10151    0.000000\n",
       "16          bs2617    0.000000\n",
       "15          bs2189    0.000000\n",
       "114         bs8450    0.000000\n",
       "\n",
       "[185 rows x 2 columns]"
      ]
     },
     "execution_count": 68,
     "metadata": {},
     "output_type": "execute_result"
    }
   ],
   "source": [
    "feature_importances_lat"
   ]
  },
  {
   "cell_type": "code",
   "execution_count": 69,
   "metadata": {},
   "outputs": [
    {
     "data": {
      "text/html": [
       "<div>\n",
       "<style scoped>\n",
       "    .dataframe tbody tr th:only-of-type {\n",
       "        vertical-align: middle;\n",
       "    }\n",
       "\n",
       "    .dataframe tbody tr th {\n",
       "        vertical-align: top;\n",
       "    }\n",
       "\n",
       "    .dataframe thead th {\n",
       "        text-align: right;\n",
       "    }\n",
       "</style>\n",
       "<table border=\"1\" class=\"dataframe\">\n",
       "  <thead>\n",
       "    <tr style=\"text-align: right;\">\n",
       "      <th></th>\n",
       "      <th>feature</th>\n",
       "      <th>importance</th>\n",
       "    </tr>\n",
       "  </thead>\n",
       "  <tbody>\n",
       "    <tr>\n",
       "      <th>181</th>\n",
       "      <td>mean_lng</td>\n",
       "      <td>0.510488</td>\n",
       "    </tr>\n",
       "    <tr>\n",
       "      <th>183</th>\n",
       "      <td>mean_lng_rssi</td>\n",
       "      <td>0.458302</td>\n",
       "    </tr>\n",
       "    <tr>\n",
       "      <th>180</th>\n",
       "      <td>mean_lat</td>\n",
       "      <td>0.012438</td>\n",
       "    </tr>\n",
       "    <tr>\n",
       "      <th>182</th>\n",
       "      <td>mean_lat_rssi</td>\n",
       "      <td>0.006516</td>\n",
       "    </tr>\n",
       "    <tr>\n",
       "      <th>178</th>\n",
       "      <td>did</td>\n",
       "      <td>0.002490</td>\n",
       "    </tr>\n",
       "    <tr>\n",
       "      <th>...</th>\n",
       "      <td>...</td>\n",
       "      <td>...</td>\n",
       "    </tr>\n",
       "    <tr>\n",
       "      <th>141</th>\n",
       "      <td>bs1432</td>\n",
       "      <td>0.000000</td>\n",
       "    </tr>\n",
       "    <tr>\n",
       "      <th>146</th>\n",
       "      <td>bs1594</td>\n",
       "      <td>0.000000</td>\n",
       "    </tr>\n",
       "    <tr>\n",
       "      <th>147</th>\n",
       "      <td>bs10151</td>\n",
       "      <td>0.000000</td>\n",
       "    </tr>\n",
       "    <tr>\n",
       "      <th>18</th>\n",
       "      <td>bs2784</td>\n",
       "      <td>0.000000</td>\n",
       "    </tr>\n",
       "    <tr>\n",
       "      <th>97</th>\n",
       "      <td>bs3402</td>\n",
       "      <td>0.000000</td>\n",
       "    </tr>\n",
       "  </tbody>\n",
       "</table>\n",
       "<p>185 rows × 2 columns</p>\n",
       "</div>"
      ],
      "text/plain": [
       "           feature  importance\n",
       "181       mean_lng    0.510488\n",
       "183  mean_lng_rssi    0.458302\n",
       "180       mean_lat    0.012438\n",
       "182  mean_lat_rssi    0.006516\n",
       "178            did    0.002490\n",
       "..             ...         ...\n",
       "141         bs1432    0.000000\n",
       "146         bs1594    0.000000\n",
       "147        bs10151    0.000000\n",
       "18          bs2784    0.000000\n",
       "97          bs3402    0.000000\n",
       "\n",
       "[185 rows x 2 columns]"
      ]
     },
     "execution_count": 69,
     "metadata": {},
     "output_type": "execute_result"
    }
   ],
   "source": [
    "feature_importances_lng"
   ]
  },
  {
   "cell_type": "code",
   "execution_count": 70,
   "metadata": {},
   "outputs": [],
   "source": [
    "seuil_importance = 0.000025"
   ]
  },
  {
   "cell_type": "code",
   "execution_count": 71,
   "metadata": {},
   "outputs": [
    {
     "data": {
      "image/png": "[encoded data removed]",
      "text/plain": [
       "<Figure size 864x864 with 1 Axes>"
      ]
     },
     "metadata": {
      "needs_background": "light"
     },
     "output_type": "display_data"
    }
   ],
   "source": [
    "# On affiche les résultats pour la prédiction de la latitude\n",
    "masque_lat = feature_importances_lat['importance'] > seuil_importance\n",
    "plt.figure(figsize=(12,12))\n",
    "plt.barh(feature_importances_lat['feature'][masque_lat], feature_importances_lat['importance'][masque_lat])       \n",
    "plt.title('Feature Importance Latitude')\n",
    "plt.tight_layout()\n",
    "plt.show;"
   ]
  },
  {
   "cell_type": "code",
   "execution_count": 72,
   "metadata": {},
   "outputs": [
    {
     "data": {
      "image/png": "[encoded data removed]",
      "text/plain": [
       "<Figure size 864x864 with 1 Axes>"
      ]
     },
     "metadata": {
      "needs_background": "light"
     },
     "output_type": "display_data"
    }
   ],
   "source": [
    "# On fait de même pour la prédiction de la longitude\n",
    "masque_lng = feature_importances_lng['importance'] > seuil_importance\n",
    "plt.figure(figsize=(12,12))\n",
    "plt.barh(feature_importances_lng['feature'][masque_lng], feature_importances_lng['importance'][masque_lng])      \n",
    "plt.title('Feature Importance Latitude')\n",
    "plt.tight_layout()\n",
    "plt.show;"
   ]
  },
  {
   "cell_type": "markdown",
   "metadata": {},
   "source": [
    "> On remarque donc assez clairement que seules quelques variables ont une importance prépondérantes face aux autres. Nous allons donc retirer de nos jeux d'entraînement et de test les features dont l'importance est faible, c'est à dire au **seuil de 0.000025**."
   ]
  },
  {
   "cell_type": "code",
   "execution_count": 73,
   "metadata": {},
   "outputs": [
    {
     "name": "stdout",
     "output_type": "stream",
     "text": [
      "124 features ont une importance inférieure à 0.000025.\n"
     ]
    }
   ],
   "source": [
    "# On enlève les features avec importance faible\n",
    "# on passe par set pour utiliser l'intersection des ensembles\n",
    "masque_lat = feature_importances_lat['importance'] > seuil_importance\n",
    "masque_lng = feature_importances_lng['importance'] > seuil_importance\n",
    "\n",
    "index_to_remove3 = list(set(feature_importances_lat['feature'][np.logical_not(masque_lat)]\n",
    "         ).intersection(set(feature_importances_lng['feature'][np.logical_not(masque_lng)])))\n",
    "print(\"%d features ont une importance inférieure à %.6f.\" %(len(index_to_remove3), seuil_importance))\n",
    "X_train = X_train.drop(index_to_remove3, axis=1)\n",
    "X_test = X_test.drop(index_to_remove3, axis=1)"
   ]
  },
  {
   "cell_type": "markdown",
   "metadata": {},
   "source": [
    "--- \n",
    "## **3. Modèles de prédiction**\n",
    "> Pour nous aider à évaluer notre modèle de prédiction, les fonctions ci-dessous étaient fournies."
   ]
  },
  {
   "cell_type": "code",
   "execution_count": 74,
   "metadata": {},
   "outputs": [],
   "source": [
    "# Fonction d'évaluation de nos résultats\n",
    "def vincenty_vec(vec_coord):\n",
    "    vin_vec_dist = np.zeros(vec_coord.shape[0])\n",
    "    if vec_coord.shape[1] !=  4:\n",
    "        print('ERROR: Bad number of columns (shall be = 4)')\n",
    "    else:\n",
    "        vin_vec_dist = [vincenty(vec_coord[m,0:2],vec_coord[m,2:]).meters for m in range(vec_coord.shape[0])]\n",
    "    return vin_vec_dist\n",
    "\n",
    "# evaluate distance error for each predicted point\n",
    "def Eval_geoloc(y_train_lat , y_train_lng, y_pred_lat, y_pred_lng):\n",
    "    vec_coord = np.array([y_train_lat , y_train_lng, y_pred_lat, y_pred_lng])\n",
    "    err_vec = vincenty_vec(np.transpose(vec_coord))\n",
    "    \n",
    "    return err_vec"
   ]
  },
  {
   "cell_type": "code",
   "execution_count": 75,
   "metadata": {},
   "outputs": [],
   "source": [
    "# Affichage de l'erreur cumulative \n",
    "def grap_error(err_vec):\n",
    "    # On affiche le graphe des erreurs de distance cumulées\n",
    "    values, base = np.histogram(err_vec, bins=50000)\n",
    "    cumulative = np.cumsum(values) \n",
    "    plt.figure()\n",
    "    plt.plot(base[:-1]/1000, cumulative / np.float(np.sum(values))  * 100.0, c='blue')\n",
    "    plt.grid()\n",
    "    plt.xlabel('Distance Error (km)')\n",
    "    plt.ylabel('Cum proba (%)'); plt.axis([0, 30, 0, 100]) \n",
    "    plt.title('Error Cumulative Probability')\n",
    "    plt.legend( [\"Opt LLR\", \"LLR 95\", \"LLR 99\"])\n",
    "    plt.show();"
   ]
  },
  {
   "cell_type": "markdown",
   "metadata": {},
   "source": [
    "### **3.1 Modèle `RandomForestRegressor`**\n",
    "> On va maintenant optimiser notre algorithme de RandomForest. Pour cela, nous allons nous intéresser à la profondeur de l'arbre `max_depth`, à la proportion de features à considérer à chaque séparation de branches `max_features`, et au nombre destimateur `n_estimators`."
   ]
  },
  {
   "cell_type": "code",
   "execution_count": null,
   "metadata": {},
   "outputs": [],
   "source": [
    "# On prépare nos dataframe pour les GridSearch\n",
    "Xtrain_cv, Xtest_cv, y_lat_train_cv, y_lat_test_cv, y_lng_train_cv, y_lng_test_cv = train_test_split(\n",
    "                                    X_train, y_lat_train, y_lng_train, test_size=0.2, random_state=1966)"
   ]
  },
  {
   "cell_type": "code",
   "execution_count": 77,
   "metadata": {
    "scrolled": true
   },
   "outputs": [
    {
     "name": "stdout",
     "output_type": "stream",
     "text": [
      "\n",
      "Etape max_depth : 20\n",
      "\n",
      "Etape max_depth : 25\n",
      "\n",
      "Etape max_depth : 30\n",
      "\n",
      "Etape max_depth : 35\n",
      "\n",
      "Etape max_depth : 40\n",
      "\n",
      "Etape max_depth : 45\n",
      "\n",
      "Etape max_depth : 50\n",
      "--- Résultats finaux ---\n",
      "\n",
      "best_max_depth 25\n",
      "best_max_features None\n",
      "best_n_estimators 50\n",
      "err80 2630.0241251560556\n"
     ]
    }
   ],
   "source": [
    "# Gridsearch manuel \n",
    "list_max_depth = [20, 25, 30, 35, 40, 45, 50]\n",
    "list_max_features = [0.5, 0.6, 0.7, 0.8, 0.9, None]\n",
    "list_n_estimators = [50, 100, 200]\n",
    "  \n",
    "err80 = 10000\n",
    "list_result =[]\n",
    "for max_depth in list_max_depth:\n",
    "    print('\\nEtape max_depth : '+str(max_depth))\n",
    "    for max_features in list_max_features:\n",
    "        #print(max_features)\n",
    "        for n_estimators in list_n_estimators:\n",
    "            #print(n_estimators)\n",
    "            clf_rf_lat = RandomForestRegressor(n_estimators = n_estimators, max_depth=max_depth,\n",
    "                                               max_features = max_features, n_jobs=-1)\n",
    "            clf_rf_lat.fit(Xtrain_cv, y_lat_train_cv)\n",
    "            y_pred_lat = clf_rf_lat.predict(Xtest_cv) \n",
    "\n",
    "            clf_rf_lng = RandomForestRegressor(n_estimators = n_estimators, max_depth=max_depth,\n",
    "                                               max_features = max_features,n_jobs=-1)\n",
    "            clf_rf_lng.fit(Xtrain_cv, y_lng_train_cv)\n",
    "            y_pred_lng = clf_rf_lng.predict(Xtest_cv)\n",
    "\n",
    "            err_vec = Eval_geoloc(y_lat_test_cv , y_lng_test_cv, y_pred_lat, y_pred_lng)\n",
    "            perc = np.percentile(err_vec, 80)\n",
    "            list_result.append((max_depth,max_features,n_estimators, perc))\n",
    "            if perc < err80: # distance erreur mini pour 80% des observations\n",
    "                err80 = perc\n",
    "                best_max_depth = max_depth\n",
    "                best_max_features = max_features\n",
    "                best_n_estimators = n_estimators    \n",
    "\n",
    "print('--- Résultats finaux ---')\n",
    "print('\\nbest_max_depth', best_max_depth) \n",
    "print('best_max_features', best_max_features)\n",
    "print('best_n_estimators', best_n_estimators)\n",
    "print('err80', err80)"
   ]
  },
  {
   "cell_type": "markdown",
   "metadata": {},
   "source": [
    "> Notre meilleur résultat est obtenu pour : \n",
    "* `max_depth` = 35\n",
    "* `max_features` = 0.7\n",
    "* `n_estimators` = 50"
   ]
  },
  {
   "cell_type": "code",
   "execution_count": 78,
   "metadata": {},
   "outputs": [
    {
     "name": "stdout",
     "output_type": "stream",
     "text": [
      "Erreur de distance cumulée à 80% : 2713.3928710065156 \n",
      "\n"
     ]
    },
    {
     "data": {
      "image/png": "[encoded data removed]",
      "text/plain": [
       "<Figure size 432x288 with 1 Axes>"
      ]
     },
     "metadata": {
      "needs_background": "light"
     },
     "output_type": "display_data"
    }
   ],
   "source": [
    "# On entraîne notre modèle RandomForest sur 80% du train set et on valide sur les 20% restants \n",
    "clf_rf_lat = RandomForestRegressor(n_estimators=best_n_estimators, max_features=best_max_features, \n",
    "                                   max_depth=best_max_depth, n_jobs=-1)\n",
    "clf_rf_lat.fit(Xtrain_cv, y_lat_train_cv)\n",
    "y_pred_lat = clf_rf_lat.predict(Xtest_cv) \n",
    "\n",
    "clf_rf_lng = RandomForestRegressor(n_estimators=best_n_estimators, max_features=best_max_features, \n",
    "                                   max_depth=best_max_depth, n_jobs=-1)\n",
    "clf_rf_lng.fit(Xtrain_cv, y_lng_train_cv)\n",
    "y_pred_lng = clf_rf_lng.predict(Xtest_cv)\n",
    "\n",
    "err_vec = Eval_geoloc(y_lat_test_cv , y_lng_test_cv, y_pred_lat, y_pred_lng)\n",
    "print(\"Erreur de distance cumulée à 80% : {} \\n\" .format((np.percentile(err_vec, 80))))\n",
    "\n",
    "grap_error(err_vec)"
   ]
  },
  {
   "cell_type": "markdown",
   "metadata": {},
   "source": [
    "### **3.4 Modèle `ExtraTreesRegressor`**\n",
    "> On teste ici une autre algorithme d'ensemble avec une nouvelle GridSearch."
   ]
  },
  {
   "cell_type": "code",
   "execution_count": 79,
   "metadata": {
    "scrolled": true
   },
   "outputs": [
    {
     "name": "stdout",
     "output_type": "stream",
     "text": [
      "\n",
      "Etape max_depth : 20\n",
      "\n",
      "Etape max_depth : 25\n",
      "\n",
      "Etape max_depth : 30\n",
      "\n",
      "Etape max_depth : 35\n",
      "\n",
      "Etape max_depth : 40\n",
      "\n",
      "Etape max_depth : 45\n",
      "\n",
      "Etape max_depth : 50\n",
      "\n",
      "Etape max_depth : 55\n",
      "\n",
      "Etape max_depth : 60\n",
      "--- Résultats finaux ---\n",
      "\n",
      "best_max_depth 60\n",
      "best_max_features 0.9\n",
      "best_n_estimators 100\n",
      "err80 2668.1672257447062\n"
     ]
    }
   ],
   "source": [
    "# Gridsearch manuel (impossible d'utiliser les fonctions classiques car ici il y a 2 modèles à optimiser)\n",
    "list_max_depth = [20, 25, 30, 35, 40, 45, 50, 55, 60]\n",
    "list_max_features = [0.5, 0.6, 0.7, 0.8, 0.9, None]\n",
    "list_n_estimators = [50, 100, 200]\n",
    "  \n",
    "err80 = 10000\n",
    "list_result =[]\n",
    "for max_depth in list_max_depth:\n",
    "    print('\\nEtape max_depth : '+str(max_depth))\n",
    "    for max_features in list_max_features:\n",
    "        #print(max_features)\n",
    "        for n_estimators in list_n_estimators:\n",
    "            #print(n_estimators)\n",
    "            clf_et_lat = ExtraTreesRegressor(n_estimators = n_estimators, max_depth=max_depth,\n",
    "                                               max_features = max_features, n_jobs=-1)\n",
    "            clf_et_lat.fit(Xtrain_cv, y_lat_train_cv)\n",
    "            y_pred_lat = clf_et_lat.predict(Xtest_cv) \n",
    "\n",
    "            clf_et_lng = ExtraTreesRegressor(n_estimators = n_estimators, max_depth=max_depth,\n",
    "                                               max_features = max_features,n_jobs=-1)\n",
    "            clf_et_lng.fit(Xtrain_cv, y_lng_train_cv)\n",
    "            y_pred_lng = clf_et_lng.predict(Xtest_cv)\n",
    "\n",
    "            err_vec = Eval_geoloc(y_lat_test_cv , y_lng_test_cv, y_pred_lat, y_pred_lng)\n",
    "            perc = np.percentile(err_vec, 80)\n",
    "            list_result.append((max_depth,max_features,n_estimators, perc))\n",
    "            if perc < err80: # distance erreur mini pour 80% des observations\n",
    "                err80 = perc\n",
    "                best_max_depth = max_depth\n",
    "                best_max_features = max_features\n",
    "                best_n_estimators = n_estimators    \n",
    "\n",
    "print('--- Résultats finaux ---')               \n",
    "print('\\nbest_max_depth', best_max_depth) \n",
    "print('best_max_features', best_max_features)\n",
    "print('best_n_estimators', best_n_estimators)\n",
    "print('err80', err80)"
   ]
  },
  {
   "cell_type": "markdown",
   "metadata": {},
   "source": [
    "> Notre meilleur résultat est obtenu pour : \n",
    "* `max_depth` = 45\n",
    "* `max_features` = 0.5 \n",
    "* `n_estimators` = 200"
   ]
  },
  {
   "cell_type": "code",
   "execution_count": 80,
   "metadata": {},
   "outputs": [
    {
     "name": "stdout",
     "output_type": "stream",
     "text": [
      "Erreur de distance cumulée à 80% : 2770.353573833924 \n",
      "\n"
     ]
    },
    {
     "data": {
      "image/png": "[encoded data removed]",
      "text/plain": [
       "<Figure size 432x288 with 1 Axes>"
      ]
     },
     "metadata": {
      "needs_background": "light"
     },
     "output_type": "display_data"
    }
   ],
   "source": [
    "# On entraîne notre modèle Extratrees sur 80% du train set et on valide sur les 20% restants \n",
    "clf_lat = ExtraTreesRegressor(n_estimators=best_n_estimators, max_features=best_max_features, \n",
    "                              max_depth=best_max_depth, n_jobs=-1)\n",
    "clf_lat.fit(Xtrain_cv, y_lat_train_cv)\n",
    "y_pred_lat = clf_lat.predict(Xtest_cv)\n",
    "clf_lng = ExtraTreesRegressor(n_estimators=best_n_estimators, max_features=best_max_features, \n",
    "                              max_depth=best_max_depth, n_jobs=-1)\n",
    "clf_lng.fit(Xtrain_cv, y_lng_train_cv)\n",
    "y_pred_lng = clf_lng.predict(Xtest_cv)\n",
    "\n",
    "err_vec = Eval_geoloc(y_lat_test_cv , y_lng_test_cv, y_pred_lat, y_pred_lng)\n",
    "print(\"Erreur de distance cumulée à 80% : {} \\n\" .format((np.percentile(err_vec, 80))))\n",
    "\n",
    "grap_error(err_vec)"
   ]
  },
  {
   "cell_type": "markdown",
   "metadata": {},
   "source": [
    "> Le score est légèrement meilleur avec le RandomForestRegressor, mais la différence est faible. Nous allons donc tester la cross validation sur les deux algorithmes."
   ]
  },
  {
   "cell_type": "markdown",
   "metadata": {},
   "source": [
    "---\n",
    "## **4. Construction du fichier de prédiction**"
   ]
  },
  {
   "cell_type": "code",
   "execution_count": 81,
   "metadata": {},
   "outputs": [],
   "source": [
    "# On prédit sur le test set à partir de l'algorithme d'Extratrees entraîné précédemment\n",
    "y_pred_lat_final = clf_lat.predict(X_test)\n",
    "y_pred_lng_final = clf_lng.predict(X_test)"
   ]
  },
  {
   "cell_type": "code",
   "execution_count": 82,
   "metadata": {},
   "outputs": [
    {
     "data": {
      "text/html": [
       "<div>\n",
       "<style scoped>\n",
       "    .dataframe tbody tr th:only-of-type {\n",
       "        vertical-align: middle;\n",
       "    }\n",
       "\n",
       "    .dataframe tbody tr th {\n",
       "        vertical-align: top;\n",
       "    }\n",
       "\n",
       "    .dataframe thead th {\n",
       "        text-align: right;\n",
       "    }\n",
       "</style>\n",
       "<table border=\"1\" class=\"dataframe\">\n",
       "  <thead>\n",
       "    <tr style=\"text-align: right;\">\n",
       "      <th></th>\n",
       "      <th>lat</th>\n",
       "      <th>lng</th>\n",
       "    </tr>\n",
       "  </thead>\n",
       "  <tbody>\n",
       "    <tr>\n",
       "      <th>0</th>\n",
       "      <td>39.690723</td>\n",
       "      <td>-104.995172</td>\n",
       "    </tr>\n",
       "    <tr>\n",
       "      <th>1</th>\n",
       "      <td>39.780491</td>\n",
       "      <td>-105.064602</td>\n",
       "    </tr>\n",
       "    <tr>\n",
       "      <th>2</th>\n",
       "      <td>39.659868</td>\n",
       "      <td>-104.976311</td>\n",
       "    </tr>\n",
       "    <tr>\n",
       "      <th>3</th>\n",
       "      <td>39.797288</td>\n",
       "      <td>-105.074547</td>\n",
       "    </tr>\n",
       "    <tr>\n",
       "      <th>4</th>\n",
       "      <td>39.658967</td>\n",
       "      <td>-104.974628</td>\n",
       "    </tr>\n",
       "  </tbody>\n",
       "</table>\n",
       "</div>"
      ],
      "text/plain": [
       "         lat         lng\n",
       "0  39.690723 -104.995172\n",
       "1  39.780491 -105.064602\n",
       "2  39.659868 -104.976311\n",
       "3  39.797288 -105.074547\n",
       "4  39.658967 -104.974628"
      ]
     },
     "execution_count": 82,
     "metadata": {},
     "output_type": "execute_result"
    }
   ],
   "source": [
    "# Construction du fichier de prédiction\n",
    "test_res = pd.DataFrame(np.array([y_pred_lat_final, y_pred_lng_final]).T, columns = ['lat', 'lng'])\n",
    "test_res.to_csv('pred_pos_test_list.csv', index=False)\n",
    "test_res.head()"
   ]
  },
  {
   "cell_type": "markdown",
   "metadata": {},
   "source": [
    "---\n",
    "## **5. Calcul du score de prédiction en *leave one device out***\n",
    "\n",
    "Dans cette partie nous allons implémenter une cross validation, de type leave one out, en entraînant à chaque fois le modèle sur l'ensemble du jeu d'entraînement, privé de tous les messages d'un device (un device différent à chaque itération)."
   ]
  },
  {
   "cell_type": "markdown",
   "metadata": {},
   "source": [
    "### 5.1 Définition des paramètres de la cross validation"
   ]
  },
  {
   "cell_type": "code",
   "execution_count": 85,
   "metadata": {},
   "outputs": [
    {
     "data": {
      "text/plain": [
       "array([473335., 473335., 473953., ..., 476207., 476257., 476593.])"
      ]
     },
     "execution_count": 85,
     "metadata": {},
     "output_type": "execute_result"
    }
   ],
   "source": [
    "# On crée les groupes, définis par les devices ID\n",
    "groups = np.array(X_train[\"did\"].tolist())\n",
    "groups"
   ]
  },
  {
   "cell_type": "code",
   "execution_count": 86,
   "metadata": {},
   "outputs": [
    {
     "data": {
      "text/plain": [
       "112"
      ]
     },
     "execution_count": 86,
     "metadata": {},
     "output_type": "execute_result"
    }
   ],
   "source": [
    "logo = LeaveOneGroupOut()\n",
    "logo.get_n_splits(X_train, y_lat_train, groups)"
   ]
  },
  {
   "cell_type": "markdown",
   "metadata": {},
   "source": [
    "### 5.2 Prédictions faites par cross validation avec le modèle `RandomForestRegressor`"
   ]
  },
  {
   "cell_type": "code",
   "execution_count": 99,
   "metadata": {},
   "outputs": [],
   "source": [
    "cv_lat=logo.split(X_train, y_lat_train, groups)\n",
    "y_pred_lat = cross_val_predict(clf_rf_lat, X_train, y_lat_train, cv=cv_lat)"
   ]
  },
  {
   "cell_type": "code",
   "execution_count": 100,
   "metadata": {},
   "outputs": [],
   "source": [
    "cv_lng=logo.split(X_train, y_lng_train, groups)\n",
    "y_pred_lng = cross_val_predict(clf_rf_lng, X_train, y_lng_train, cv=cv_lng)"
   ]
  },
  {
   "cell_type": "code",
   "execution_count": 101,
   "metadata": {},
   "outputs": [
    {
     "name": "stdout",
     "output_type": "stream",
     "text": [
      "Erreur de distance cumulée à 80% : 6376.139088055069 \n",
      "\n"
     ]
    },
    {
     "data": {
      "image/png": "[encoded data removed]",
      "text/plain": [
       "<Figure size 432x288 with 1 Axes>"
      ]
     },
     "metadata": {
      "needs_background": "light"
     },
     "output_type": "display_data"
    }
   ],
   "source": [
    "err_vec = Eval_geoloc(y_lat_train , y_lng_train, y_pred_lat, y_pred_lng)\n",
    "print(\"Erreur de distance cumulée à 80% : {} \\n\" .format((np.percentile(err_vec, 80))))\n",
    "\n",
    "grap_error(err_vec)"
   ]
  },
  {
   "cell_type": "markdown",
   "metadata": {},
   "source": [
    "### 5.3 Prédictions faites par cross validation avec le modèle `ExtraTreesRegressor`"
   ]
  },
  {
   "cell_type": "code",
   "execution_count": 95,
   "metadata": {},
   "outputs": [],
   "source": [
    "cv_lat=logo.split(X_train, y_lat_train, groups)\n",
    "y_pred_lat = cross_val_predict(clf_lat, X_train, y_lat_train, cv=cv_lat)"
   ]
  },
  {
   "cell_type": "code",
   "execution_count": 97,
   "metadata": {},
   "outputs": [],
   "source": [
    "cv_lng=logo.split(X_train, y_lng_train, groups)\n",
    "y_pred_lng = cross_val_predict(clf_lng, X_train, y_lng_train, cv=cv_lng)"
   ]
  },
  {
   "cell_type": "code",
   "execution_count": 98,
   "metadata": {},
   "outputs": [
    {
     "name": "stdout",
     "output_type": "stream",
     "text": [
      "Erreur de distance cumulée à 80% : 5526.289962810852 \n",
      "\n"
     ]
    },
    {
     "data": {
      "image/png": "[encoded data removed]",
      "text/plain": [
       "<Figure size 432x288 with 1 Axes>"
      ]
     },
     "metadata": {
      "needs_background": "light"
     },
     "output_type": "display_data"
    }
   ],
   "source": [
    "err_vec = Eval_geoloc(y_lat_train , y_lng_train, y_pred_lat, y_pred_lng)\n",
    "print(\"Erreur de distance cumulée à 80% : {} \\n\" .format((np.percentile(err_vec, 80))))\n",
    "\n",
    "grap_error(err_vec)"
   ]
  },
  {
   "cell_type": "markdown",
   "metadata": {},
   "source": [
    "> Le score est meilleur avec le modèle `ExtraTreesRegressor`. Le score est beaucoup moins bon en cross validation par leave one device out, parce que les prédictions sont faites sur des devices sur lesquels le modèle n'a pas été entraîné."
   ]
  }
 ],
 "metadata": {
  "kernelspec": {
   "display_name": "Python 3",
   "language": "python",
   "name": "python3"
  },
  "language_info": {
   "codemirror_mode": {
    "name": "ipython",
    "version": 3
   },
   "file_extension": ".py",
   "mimetype": "text/x-python",
   "name": "python",
   "nbconvert_exporter": "python",
   "pygments_lexer": "ipython3",
   "version": "3.6.9"
  }
 },
 "nbformat": 4,
 "nbformat_minor": 4
}
